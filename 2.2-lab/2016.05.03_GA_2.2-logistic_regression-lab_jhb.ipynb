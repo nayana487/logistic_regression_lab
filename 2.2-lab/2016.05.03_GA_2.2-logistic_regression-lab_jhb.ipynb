{
 "cells": [
  {
   "cell_type": "markdown",
   "metadata": {},
   "source": [
    "Inform Python we will use the StatsModels Library"
   ]
  },
  {
   "cell_type": "code",
   "execution_count": 1,
   "metadata": {
    "collapsed": true
   },
   "outputs": [],
   "source": [
    "import statsmodels.api as st"
   ]
  },
  {
   "cell_type": "markdown",
   "metadata": {},
   "source": [
    "Use IRIS Dataset"
   ]
  },
  {
   "cell_type": "code",
   "execution_count": 2,
   "metadata": {
    "collapsed": false
   },
   "outputs": [],
   "source": [
    "# import the dataset, declare target and features\n",
    "iris = st.datasets.get_rdataset('iris','datasets')\n",
    "y = iris.data.Species\n",
    "#print y\n",
    "X = iris.data.ix[:, 0:4]\n",
    "#print X"
   ]
  },
  {
   "cell_type": "markdown",
   "metadata": {},
   "source": [
    "Setup the Logistic Regression "
   ]
  },
  {
   "cell_type": "code",
   "execution_count": 9,
   "metadata": {
    "collapsed": false
   },
   "outputs": [
    {
     "data": {
      "text/html": [
       "<div>\n",
       "<table border=\"1\" class=\"dataframe\">\n",
       "  <thead>\n",
       "    <tr style=\"text-align: right;\">\n",
       "      <th></th>\n",
       "      <th>Sepal.Length</th>\n",
       "      <th>Sepal.Width</th>\n",
       "      <th>Petal.Length</th>\n",
       "      <th>Petal.Width</th>\n",
       "      <th>const</th>\n",
       "    </tr>\n",
       "  </thead>\n",
       "  <tbody>\n",
       "    <tr>\n",
       "      <th>0</th>\n",
       "      <td>5.1</td>\n",
       "      <td>3.5</td>\n",
       "      <td>1.4</td>\n",
       "      <td>0.2</td>\n",
       "      <td>1</td>\n",
       "    </tr>\n",
       "    <tr>\n",
       "      <th>1</th>\n",
       "      <td>4.9</td>\n",
       "      <td>3.0</td>\n",
       "      <td>1.4</td>\n",
       "      <td>0.2</td>\n",
       "      <td>1</td>\n",
       "    </tr>\n",
       "    <tr>\n",
       "      <th>2</th>\n",
       "      <td>4.7</td>\n",
       "      <td>3.2</td>\n",
       "      <td>1.3</td>\n",
       "      <td>0.2</td>\n",
       "      <td>1</td>\n",
       "    </tr>\n",
       "    <tr>\n",
       "      <th>3</th>\n",
       "      <td>4.6</td>\n",
       "      <td>3.1</td>\n",
       "      <td>1.5</td>\n",
       "      <td>0.2</td>\n",
       "      <td>1</td>\n",
       "    </tr>\n",
       "    <tr>\n",
       "      <th>4</th>\n",
       "      <td>5.0</td>\n",
       "      <td>3.6</td>\n",
       "      <td>1.4</td>\n",
       "      <td>0.2</td>\n",
       "      <td>1</td>\n",
       "    </tr>\n",
       "  </tbody>\n",
       "</table>\n",
       "</div>"
      ],
      "text/plain": [
       "   Sepal.Length  Sepal.Width  Petal.Length  Petal.Width  const\n",
       "0           5.1          3.5           1.4          0.2      1\n",
       "1           4.9          3.0           1.4          0.2      1\n",
       "2           4.7          3.2           1.3          0.2      1\n",
       "3           4.6          3.1           1.5          0.2      1\n",
       "4           5.0          3.6           1.4          0.2      1"
      ]
     },
     "execution_count": 9,
     "metadata": {},
     "output_type": "execute_result"
    }
   ],
   "source": [
    "# add column of ones for our y-intercept (http://blog.yhat.com/posts/logistic-regression-and-python.html)\n",
    "X = st.add_constant(X, prepend = False)\n",
    "X.head()"
   ]
  },
  {
   "cell_type": "code",
   "execution_count": 10,
   "metadata": {
    "collapsed": true
   },
   "outputs": [],
   "source": [
    "#declare our model\n",
    "model = st.MNLogit(y, X)"
   ]
  },
  {
   "cell_type": "markdown",
   "metadata": {},
   "source": [
    "Perform the Regression using the Fit Method"
   ]
  },
  {
   "cell_type": "code",
   "execution_count": 15,
   "metadata": {
    "collapsed": false
   },
   "outputs": [
    {
     "name": "stdout",
     "output_type": "stream",
     "text": [
      "Warning: Maximum number of iterations has been exceeded.\n",
      "         Current function value: 0.057112\n",
      "         Iterations: 35\n",
      "         Function evaluations: 37\n",
      "         Gradient evaluations: 37\n"
     ]
    },
    {
     "name": "stderr",
     "output_type": "stream",
     "text": [
      "C:\\Users\\jhboyl\\Anaconda2\\lib\\site-packages\\statsmodels\\base\\model.py:466: ConvergenceWarning: Maximum Likelihood optimization failed to converge. Check mle_retvals\n",
      "  \"Check mle_retvals\", ConvergenceWarning)\n"
     ]
    }
   ],
   "source": [
    "model_fit = model.fit(method = 'bfgs')"
   ]
  },
  {
   "cell_type": "markdown",
   "metadata": {},
   "source": [
    "Print a summary of the results"
   ]
  },
  {
   "cell_type": "code",
   "execution_count": 16,
   "metadata": {
    "collapsed": false
   },
   "outputs": [
    {
     "data": {
      "text/html": [
       "<table class=\"simpletable\">\n",
       "<caption>MNLogit Regression Results</caption>\n",
       "<tr>\n",
       "  <th>Dep. Variable:</th>      <td>Species</td>     <th>  No. Observations:  </th>  <td>   150</td>  \n",
       "</tr>\n",
       "<tr>\n",
       "  <th>Model:</th>              <td>MNLogit</td>     <th>  Df Residuals:      </th>  <td>   140</td>  \n",
       "</tr>\n",
       "<tr>\n",
       "  <th>Method:</th>               <td>MLE</td>       <th>  Df Model:          </th>  <td>     8</td>  \n",
       "</tr>\n",
       "<tr>\n",
       "  <th>Date:</th>          <td>Tue, 03 May 2016</td> <th>  Pseudo R-squ.:     </th>  <td>0.9480</td>  \n",
       "</tr>\n",
       "<tr>\n",
       "  <th>Time:</th>              <td>14:49:50</td>     <th>  Log-Likelihood:    </th> <td> -8.5668</td> \n",
       "</tr>\n",
       "<tr>\n",
       "  <th>converged:</th>           <td>False</td>      <th>  LL-Null:           </th> <td> -164.79</td> \n",
       "</tr>\n",
       "<tr>\n",
       "  <th> </th>                      <td> </td>        <th>  LLR p-value:       </th> <td>9.200e-63</td>\n",
       "</tr>\n",
       "</table>\n",
       "<table class=\"simpletable\">\n",
       "<tr>\n",
       "  <th>Species=versicolor</th>    <th>coef</th>     <th>std err</th>      <th>z</th>      <th>P>|z|</th> <th>[95.0% Conf. Int.]</th> \n",
       "</tr>\n",
       "<tr>\n",
       "  <th>Sepal.Length</th>       <td>   -1.4959</td> <td>  444.817</td> <td>   -0.003</td> <td> 0.997</td> <td> -873.321   870.330</td>\n",
       "</tr>\n",
       "<tr>\n",
       "  <th>Sepal.Width</th>        <td>   -8.0560</td> <td>  282.766</td> <td>   -0.028</td> <td> 0.977</td> <td> -562.267   546.155</td>\n",
       "</tr>\n",
       "<tr>\n",
       "  <th>Petal.Length</th>       <td>   11.9301</td> <td>  374.116</td> <td>    0.032</td> <td> 0.975</td> <td> -721.323   745.184</td>\n",
       "</tr>\n",
       "<tr>\n",
       "  <th>Petal.Width</th>        <td>    1.7039</td> <td>  759.366</td> <td>    0.002</td> <td> 0.998</td> <td>-1486.627  1490.035</td>\n",
       "</tr>\n",
       "<tr>\n",
       "  <th>const</th>              <td>    1.6444</td> <td> 1550.515</td> <td>    0.001</td> <td> 0.999</td> <td>-3037.309  3040.597</td>\n",
       "</tr>\n",
       "<tr>\n",
       "  <th>Species=virginica</th>    <th>coef</th>     <th>std err</th>      <th>z</th>      <th>P>|z|</th> <th>[95.0% Conf. Int.]</th> \n",
       "</tr>\n",
       "<tr>\n",
       "  <th>Sepal.Length</th>      <td>   -8.0348</td> <td>  444.835</td> <td>   -0.018</td> <td> 0.986</td> <td> -879.896   863.827</td>\n",
       "</tr>\n",
       "<tr>\n",
       "  <th>Sepal.Width</th>       <td>  -15.8195</td> <td>  282.793</td> <td>   -0.056</td> <td> 0.955</td> <td> -570.083   538.444</td>\n",
       "</tr>\n",
       "<tr>\n",
       "  <th>Petal.Length</th>      <td>   22.1797</td> <td>  374.155</td> <td>    0.059</td> <td> 0.953</td> <td> -711.151   755.511</td>\n",
       "</tr>\n",
       "<tr>\n",
       "  <th>Petal.Width</th>       <td>   14.0603</td> <td>  759.384</td> <td>    0.019</td> <td> 0.985</td> <td>-1474.304  1502.425</td>\n",
       "</tr>\n",
       "<tr>\n",
       "  <th>const</th>             <td>   -6.5053</td> <td> 1550.533</td> <td>   -0.004</td> <td> 0.997</td> <td>-3045.493  3032.483</td>\n",
       "</tr>\n",
       "</table>"
      ],
      "text/plain": [
       "<class 'statsmodels.iolib.summary.Summary'>\n",
       "\"\"\"\n",
       "                          MNLogit Regression Results                          \n",
       "==============================================================================\n",
       "Dep. Variable:                Species   No. Observations:                  150\n",
       "Model:                        MNLogit   Df Residuals:                      140\n",
       "Method:                           MLE   Df Model:                            8\n",
       "Date:                Tue, 03 May 2016   Pseudo R-squ.:                  0.9480\n",
       "Time:                        14:49:50   Log-Likelihood:                -8.5668\n",
       "converged:                      False   LL-Null:                       -164.79\n",
       "                                        LLR p-value:                 9.200e-63\n",
       "=====================================================================================\n",
       "Species=versicolor       coef    std err          z      P>|z|      [95.0% Conf. Int.]\n",
       "--------------------------------------------------------------------------------------\n",
       "Sepal.Length          -1.4959    444.817     -0.003      0.997      -873.321   870.330\n",
       "Sepal.Width           -8.0560    282.766     -0.028      0.977      -562.267   546.155\n",
       "Petal.Length          11.9301    374.116      0.032      0.975      -721.323   745.184\n",
       "Petal.Width            1.7039    759.366      0.002      0.998     -1486.627  1490.035\n",
       "const                  1.6444   1550.515      0.001      0.999     -3037.309  3040.597\n",
       "--------------------------------------------------------------------------------------\n",
       "Species=virginica       coef    std err          z      P>|z|      [95.0% Conf. Int.]\n",
       "-------------------------------------------------------------------------------------\n",
       "Sepal.Length         -8.0348    444.835     -0.018      0.986      -879.896   863.827\n",
       "Sepal.Width         -15.8195    282.793     -0.056      0.955      -570.083   538.444\n",
       "Petal.Length         22.1797    374.155      0.059      0.953      -711.151   755.511\n",
       "Petal.Width          14.0603    759.384      0.019      0.985     -1474.304  1502.425\n",
       "const                -6.5053   1550.533     -0.004      0.997     -3045.493  3032.483\n",
       "=====================================================================================\n",
       "\"\"\""
      ]
     },
     "execution_count": 16,
     "metadata": {},
     "output_type": "execute_result"
    }
   ],
   "source": [
    "model_fit.summary()"
   ]
  },
  {
   "cell_type": "code",
   "execution_count": 17,
   "metadata": {
    "collapsed": false
   },
   "outputs": [],
   "source": [
    "model2 = model_fit.get_margeff()"
   ]
  },
  {
   "cell_type": "code",
   "execution_count": 18,
   "metadata": {
    "collapsed": false
   },
   "outputs": [
    {
     "data": {
      "text/html": [
       "<table class=\"simpletable\">\n",
       "<caption>MNLogit Marginal Effects</caption>\n",
       "<tr>\n",
       "  <th>Dep. Variable:</th> <td>Species</td>\n",
       "</tr>\n",
       "<tr>\n",
       "  <th>Method:</th>         <td>dydx</td>  \n",
       "</tr>\n",
       "<tr>\n",
       "  <th>At:</th>            <td>overall</td>\n",
       "</tr>\n",
       "</table>\n",
       "<table class=\"simpletable\">\n",
       "<tr>\n",
       "    <th>Species=setosa</th>      <th>dy/dx</th>    <th>std err</th>      <th>z</th>      <th>P>|z|</th> <th>[95.0% Conf. Int.]</th> \n",
       "</tr>\n",
       "<tr>\n",
       "  <th>Sepal.Length</th>       <td> 6.679e-06</td> <td>    0.002</td> <td>    0.003</td> <td> 0.997</td> <td>   -0.004     0.004</td>\n",
       "</tr>\n",
       "<tr>\n",
       "  <th>Sepal.Width</th>        <td> 3.597e-05</td> <td>    0.002</td> <td>    0.020</td> <td> 0.984</td> <td>   -0.004     0.004</td>\n",
       "</tr>\n",
       "<tr>\n",
       "  <th>Petal.Length</th>       <td>-5.327e-05</td> <td>    0.003</td> <td>   -0.021</td> <td> 0.983</td> <td>   -0.005     0.005</td>\n",
       "</tr>\n",
       "<tr>\n",
       "  <th>Petal.Width</th>        <td>-7.608e-06</td> <td>    0.003</td> <td>   -0.002</td> <td> 0.998</td> <td>   -0.007     0.007</td>\n",
       "</tr>\n",
       "<tr>\n",
       "  <th>Species=versicolor</th>    <th>dy/dx</th>    <th>std err</th>      <th>z</th>      <th>P>|z|</th> <th>[95.0% Conf. Int.]</th> \n",
       "</tr>\n",
       "<tr>\n",
       "  <th>Sepal.Length</th>       <td>    0.1124</td> <td>    0.062</td> <td>    1.827</td> <td> 0.068</td> <td>   -0.008     0.233</td>\n",
       "</tr>\n",
       "<tr>\n",
       "  <th>Sepal.Width</th>        <td>    0.1334</td> <td>    0.054</td> <td>    2.464</td> <td> 0.014</td> <td>    0.027     0.240</td>\n",
       "</tr>\n",
       "<tr>\n",
       "  <th>Petal.Length</th>       <td>   -0.1761</td> <td>    0.077</td> <td>   -2.273</td> <td> 0.023</td> <td>   -0.328    -0.024</td>\n",
       "</tr>\n",
       "<tr>\n",
       "  <th>Petal.Width</th>        <td>   -0.2124</td> <td>    0.051</td> <td>   -4.134</td> <td> 0.000</td> <td>   -0.313    -0.112</td>\n",
       "</tr>\n",
       "<tr>\n",
       "  <th>Species=virginica</th>    <th>dy/dx</th>    <th>std err</th>      <th>z</th>      <th>P>|z|</th> <th>[95.0% Conf. Int.]</th> \n",
       "</tr>\n",
       "<tr>\n",
       "  <th>Sepal.Length</th>      <td>   -0.1124</td> <td>    0.061</td> <td>   -1.828</td> <td> 0.068</td> <td>   -0.233     0.008</td>\n",
       "</tr>\n",
       "<tr>\n",
       "  <th>Sepal.Width</th>       <td>   -0.1334</td> <td>    0.054</td> <td>   -2.466</td> <td> 0.014</td> <td>   -0.239    -0.027</td>\n",
       "</tr>\n",
       "<tr>\n",
       "  <th>Petal.Length</th>      <td>    0.1762</td> <td>    0.077</td> <td>    2.275</td> <td> 0.023</td> <td>    0.024     0.328</td>\n",
       "</tr>\n",
       "<tr>\n",
       "  <th>Petal.Width</th>       <td>    0.2124</td> <td>    0.051</td> <td>    4.143</td> <td> 0.000</td> <td>    0.112     0.313</td>\n",
       "</tr>\n",
       "</table>"
      ],
      "text/plain": [
       "<class 'statsmodels.iolib.summary.Summary'>\n",
       "\"\"\"\n",
       "       MNLogit Marginal Effects      \n",
       "=====================================\n",
       "Dep. Variable:                Species\n",
       "Method:                          dydx\n",
       "At:                           overall\n",
       "=====================================================================================\n",
       "    Species=setosa      dy/dx    std err          z      P>|z|      [95.0% Conf. Int.]\n",
       "--------------------------------------------------------------------------------------\n",
       "Sepal.Length        6.679e-06      0.002      0.003      0.997        -0.004     0.004\n",
       "Sepal.Width         3.597e-05      0.002      0.020      0.984        -0.004     0.004\n",
       "Petal.Length       -5.327e-05      0.003     -0.021      0.983        -0.005     0.005\n",
       "Petal.Width        -7.608e-06      0.003     -0.002      0.998        -0.007     0.007\n",
       "--------------------------------------------------------------------------------------\n",
       "Species=versicolor      dy/dx    std err          z      P>|z|      [95.0% Conf. Int.]\n",
       "--------------------------------------------------------------------------------------\n",
       "Sepal.Length           0.1124      0.062      1.827      0.068        -0.008     0.233\n",
       "Sepal.Width            0.1334      0.054      2.464      0.014         0.027     0.240\n",
       "Petal.Length          -0.1761      0.077     -2.273      0.023        -0.328    -0.024\n",
       "Petal.Width           -0.2124      0.051     -4.134      0.000        -0.313    -0.112\n",
       "--------------------------------------------------------------------------------------\n",
       "Species=virginica      dy/dx    std err          z      P>|z|      [95.0% Conf. Int.]\n",
       "-------------------------------------------------------------------------------------\n",
       "Sepal.Length         -0.1124      0.061     -1.828      0.068        -0.233     0.008\n",
       "Sepal.Width          -0.1334      0.054     -2.466      0.014        -0.239    -0.027\n",
       "Petal.Length          0.1762      0.077      2.275      0.023         0.024     0.328\n",
       "Petal.Width           0.2124      0.051      4.143      0.000         0.112     0.313\n",
       "=====================================================================================\n",
       "\"\"\""
      ]
     },
     "execution_count": 18,
     "metadata": {},
     "output_type": "execute_result"
    }
   ],
   "source": [
    "model2.summary()"
   ]
  },
  {
   "cell_type": "code",
   "execution_count": 19,
   "metadata": {
    "collapsed": false
   },
   "outputs": [
    {
     "data": {
      "text/plain": [
       "37.133652789619532"
      ]
     },
     "execution_count": 19,
     "metadata": {},
     "output_type": "execute_result"
    }
   ],
   "source": [
    "model_fit.aic"
   ]
  },
  {
   "cell_type": "code",
   "execution_count": 20,
   "metadata": {
    "collapsed": false
   },
   "outputs": [
    {
     "data": {
      "text/plain": [
       "67.240005730582084"
      ]
     },
     "execution_count": 20,
     "metadata": {},
     "output_type": "execute_result"
    }
   ],
   "source": [
    "model_fit.bic"
   ]
  },
  {
   "cell_type": "code",
   "execution_count": null,
   "metadata": {
    "collapsed": true
   },
   "outputs": [],
   "source": []
  }
 ],
 "metadata": {
  "kernelspec": {
   "display_name": "Python 2",
   "language": "python",
   "name": "python2"
  },
  "language_info": {
   "codemirror_mode": {
    "name": "ipython",
    "version": 2
   },
   "file_extension": ".py",
   "mimetype": "text/x-python",
   "name": "python",
   "nbconvert_exporter": "python",
   "pygments_lexer": "ipython2",
   "version": "2.7.11"
  }
 },
 "nbformat": 4,
 "nbformat_minor": 0
}
