{
 "cells": [
  {
   "cell_type": "markdown",
   "metadata": {},
   "source": [
    "Inform Python we will use the StatsModels Library"
   ]
  },
  {
   "cell_type": "code",
   "execution_count": 58,
   "metadata": {
    "collapsed": true
   },
   "outputs": [],
   "source": [
    "# I am importing my packages here\n",
    "import statsmodels.api as sm\n",
    "import pandas as pd\n",
    "import numpy as np"
   ]
  },
  {
   "cell_type": "markdown",
   "metadata": {},
   "source": [
    "Use IRIS Dataset"
   ]
  },
  {
   "cell_type": "code",
   "execution_count": 88,
   "metadata": {
    "collapsed": false
   },
   "outputs": [
    {
     "name": "stdout",
     "output_type": "stream",
     "text": [
      "<class 'pandas.core.frame.DataFrame'>\n",
      "<class 'pandas.core.series.Series'>\n"
     ]
    },
    {
     "data": {
      "text/plain": [
       "pandas.core.frame.DataFrame"
      ]
     },
     "execution_count": 88,
     "metadata": {},
     "output_type": "execute_result"
    }
   ],
   "source": [
    "# import the dataset, declare target and features\n",
    "iris = sm.datasets.get_rdataset('iris','datasets')\n",
    "\n",
    "# I set x and y for convenience but I will not end up using these\n",
    "y = iris.data.Species \n",
    "X = iris.data.ix[:, 0:4]\n",
    "\n",
    "# I am printing the type so i can check what I am working with\n",
    "print(type(X))\n",
    "print(type(y))\n",
    "\n",
    "# add column of ones for our y-intercept (http://blog.yhat.com/posts/logistic-regression-and-python.html)\n",
    "iris.data['intercept'] = 1.0\n",
    "\n",
    "# I am creating a new column here where I take the species and assign a number to them\n",
    "# this allows me to perform numerical calcs with them\n",
    "iris.data['species_num'] = iris.data['Species'].map({'setosa':0, 'versicolor':1, 'virginica':2})\n",
    "\n",
    "type(iris.data)"
   ]
  },
  {
   "cell_type": "code",
   "execution_count": 89,
   "metadata": {
    "collapsed": false
   },
   "outputs": [],
   "source": []
  },
  {
   "cell_type": "markdown",
   "metadata": {},
   "source": [
    "Setup the Logistic Regression "
   ]
  },
  {
   "cell_type": "code",
   "execution_count": 90,
   "metadata": {
    "collapsed": false
   },
   "outputs": [],
   "source": []
  },
  {
   "cell_type": "code",
   "execution_count": 91,
   "metadata": {
    "collapsed": false
   },
   "outputs": [],
   "source": [
    "#declare our model\n",
    "mdl = sm.MNLogit(iris.data['species_num'], iris.data[['Sepal.Length', 'Sepal.Width', 'Petal.Length', 'Petal.Width', 'intercept']])\n",
    "\n",
    "#mdl = sm.MNLogit(y, X)"
   ]
  },
  {
   "cell_type": "markdown",
   "metadata": {},
   "source": [
    "Perform the Regression using the Fit Method"
   ]
  },
  {
   "cell_type": "code",
   "execution_count": 112,
   "metadata": {
    "collapsed": false
   },
   "outputs": [
    {
     "name": "stdout",
     "output_type": "stream",
     "text": [
      "Warning: Maximum number of iterations has been exceeded.\n",
      "         Current function value: 0.057112\n",
      "         Iterations: 35\n",
      "         Function evaluations: 37\n",
      "         Gradient evaluations: 37\n"
     ]
    },
    {
     "name": "stderr",
     "output_type": "stream",
     "text": [
      "/Users/TerryONeill/anaconda/lib/python2.7/site-packages/statsmodels/base/model.py:466: ConvergenceWarning: Maximum Likelihood optimization failed to converge. Check mle_retvals\n",
      "  \"Check mle_retvals\", ConvergenceWarning)\n"
     ]
    }
   ],
   "source": [
    "# i am using the variable result to name the model fit so it is easily called\n",
    "result = mdl.fit(method = 'bfgs')\n"
   ]
  },
  {
   "cell_type": "markdown",
   "metadata": {},
   "source": [
    "Print a summary of the results"
   ]
  },
  {
   "cell_type": "code",
   "execution_count": 97,
   "metadata": {
    "collapsed": false
   },
   "outputs": [
    {
     "name": "stdout",
     "output_type": "stream",
     "text": [
      "                          MNLogit Regression Results                          \n",
      "==============================================================================\n",
      "Dep. Variable:            species_num   No. Observations:                  150\n",
      "Model:                        MNLogit   Df Residuals:                      140\n",
      "Method:                           MLE   Df Model:                            8\n",
      "Date:                Tue, 03 May 2016   Pseudo R-squ.:                  0.9480\n",
      "Time:                        15:20:15   Log-Likelihood:                -8.5668\n",
      "converged:                      False   LL-Null:                       -164.79\n",
      "                                        LLR p-value:                 9.200e-63\n",
      "=================================================================================\n",
      "species_num=2       coef    std err          z      P>|z|      [95.0% Conf. Int.]\n",
      "---------------------------------------------------------------------------------\n",
      "Sepal.Length     -1.4959    444.817     -0.003      0.997      -873.321   870.330\n",
      "Sepal.Width      -8.0560    282.766     -0.028      0.977      -562.267   546.155\n",
      "Petal.Length     11.9301    374.116      0.032      0.975      -721.323   745.184\n",
      "Petal.Width       1.7039    759.366      0.002      0.998     -1486.627  1490.035\n",
      "intercept         1.6444   1550.515      0.001      0.999     -3037.309  3040.597\n",
      "---------------------------------------------------------------------------------\n",
      "species_num=3       coef    std err          z      P>|z|      [95.0% Conf. Int.]\n",
      "---------------------------------------------------------------------------------\n",
      "Sepal.Length     -8.0348    444.835     -0.018      0.986      -879.896   863.827\n",
      "Sepal.Width     -15.8195    282.793     -0.056      0.955      -570.083   538.444\n",
      "Petal.Length     22.1797    374.155      0.059      0.953      -711.152   755.511\n",
      "Petal.Width      14.0603    759.384      0.019      0.985     -1474.304  1502.425\n",
      "intercept        -6.5053   1550.533     -0.004      0.997     -3045.493  3032.483\n",
      "=================================================================================\n"
     ]
    }
   ],
   "source": [
    "print result.summary()"
   ]
  },
  {
   "cell_type": "code",
   "execution_count": 103,
   "metadata": {
    "collapsed": false
   },
   "outputs": [
    {
     "data": {
      "text/html": [
       "<table class=\"simpletable\">\n",
       "<caption>MNLogit Marginal Effects</caption>\n",
       "<tr>\n",
       "  <th>Dep. Variable:</th> <td>species_num</td>\n",
       "</tr>\n",
       "<tr>\n",
       "  <th>Method:</th>           <td>dydx</td>    \n",
       "</tr>\n",
       "<tr>\n",
       "  <th>At:</th>              <td>overall</td>  \n",
       "</tr>\n",
       "</table>\n",
       "<table class=\"simpletable\">\n",
       "<tr>\n",
       "  <th>species_num=1</th>    <th>dy/dx</th>    <th>std err</th>      <th>z</th>      <th>P>|z|</th> <th>[95.0% Conf. Int.]</th> \n",
       "</tr>\n",
       "<tr>\n",
       "  <th>Sepal.Length</th>  <td> 6.679e-06</td> <td>    0.002</td> <td>    0.003</td> <td> 0.997</td> <td>   -0.004     0.004</td>\n",
       "</tr>\n",
       "<tr>\n",
       "  <th>Sepal.Width</th>   <td> 3.597e-05</td> <td>    0.002</td> <td>    0.020</td> <td> 0.984</td> <td>   -0.004     0.004</td>\n",
       "</tr>\n",
       "<tr>\n",
       "  <th>Petal.Length</th>  <td>-5.327e-05</td> <td>    0.003</td> <td>   -0.021</td> <td> 0.983</td> <td>   -0.005     0.005</td>\n",
       "</tr>\n",
       "<tr>\n",
       "  <th>Petal.Width</th>   <td>-7.608e-06</td> <td>    0.003</td> <td>   -0.002</td> <td> 0.998</td> <td>   -0.007     0.007</td>\n",
       "</tr>\n",
       "<tr>\n",
       "  <th>species_num=2</th>    <th>dy/dx</th>    <th>std err</th>      <th>z</th>      <th>P>|z|</th> <th>[95.0% Conf. Int.]</th> \n",
       "</tr>\n",
       "<tr>\n",
       "  <th>Sepal.Length</th>  <td>    0.1124</td> <td>    0.062</td> <td>    1.827</td> <td> 0.068</td> <td>   -0.008     0.233</td>\n",
       "</tr>\n",
       "<tr>\n",
       "  <th>Sepal.Width</th>   <td>    0.1334</td> <td>    0.054</td> <td>    2.464</td> <td> 0.014</td> <td>    0.027     0.240</td>\n",
       "</tr>\n",
       "<tr>\n",
       "  <th>Petal.Length</th>  <td>   -0.1761</td> <td>    0.077</td> <td>   -2.273</td> <td> 0.023</td> <td>   -0.328    -0.024</td>\n",
       "</tr>\n",
       "<tr>\n",
       "  <th>Petal.Width</th>   <td>   -0.2124</td> <td>    0.051</td> <td>   -4.134</td> <td> 0.000</td> <td>   -0.313    -0.112</td>\n",
       "</tr>\n",
       "<tr>\n",
       "  <th>species_num=3</th>    <th>dy/dx</th>    <th>std err</th>      <th>z</th>      <th>P>|z|</th> <th>[95.0% Conf. Int.]</th> \n",
       "</tr>\n",
       "<tr>\n",
       "  <th>Sepal.Length</th>  <td>   -0.1124</td> <td>    0.061</td> <td>   -1.828</td> <td> 0.068</td> <td>   -0.233     0.008</td>\n",
       "</tr>\n",
       "<tr>\n",
       "  <th>Sepal.Width</th>   <td>   -0.1334</td> <td>    0.054</td> <td>   -2.466</td> <td> 0.014</td> <td>   -0.239    -0.027</td>\n",
       "</tr>\n",
       "<tr>\n",
       "  <th>Petal.Length</th>  <td>    0.1762</td> <td>    0.077</td> <td>    2.275</td> <td> 0.023</td> <td>    0.024     0.328</td>\n",
       "</tr>\n",
       "<tr>\n",
       "  <th>Petal.Width</th>   <td>    0.2124</td> <td>    0.051</td> <td>    4.143</td> <td> 0.000</td> <td>    0.112     0.313</td>\n",
       "</tr>\n",
       "</table>"
      ],
      "text/plain": [
       "<class 'statsmodels.iolib.summary.Summary'>\n",
       "\"\"\"\n",
       "       MNLogit Marginal Effects      \n",
       "=====================================\n",
       "Dep. Variable:            species_num\n",
       "Method:                          dydx\n",
       "At:                           overall\n",
       "=================================================================================\n",
       "species_num=1      dy/dx    std err          z      P>|z|      [95.0% Conf. Int.]\n",
       "---------------------------------------------------------------------------------\n",
       "Sepal.Length   6.679e-06      0.002      0.003      0.997        -0.004     0.004\n",
       "Sepal.Width    3.597e-05      0.002      0.020      0.984        -0.004     0.004\n",
       "Petal.Length  -5.327e-05      0.003     -0.021      0.983        -0.005     0.005\n",
       "Petal.Width   -7.608e-06      0.003     -0.002      0.998        -0.007     0.007\n",
       "---------------------------------------------------------------------------------\n",
       "species_num=2      dy/dx    std err          z      P>|z|      [95.0% Conf. Int.]\n",
       "---------------------------------------------------------------------------------\n",
       "Sepal.Length      0.1124      0.062      1.827      0.068        -0.008     0.233\n",
       "Sepal.Width       0.1334      0.054      2.464      0.014         0.027     0.240\n",
       "Petal.Length     -0.1761      0.077     -2.273      0.023        -0.328    -0.024\n",
       "Petal.Width      -0.2124      0.051     -4.134      0.000        -0.313    -0.112\n",
       "---------------------------------------------------------------------------------\n",
       "species_num=3      dy/dx    std err          z      P>|z|      [95.0% Conf. Int.]\n",
       "---------------------------------------------------------------------------------\n",
       "Sepal.Length     -0.1124      0.061     -1.828      0.068        -0.233     0.008\n",
       "Sepal.Width      -0.1334      0.054     -2.466      0.014        -0.239    -0.027\n",
       "Petal.Length      0.1762      0.077      2.275      0.023         0.024     0.328\n",
       "Petal.Width       0.2124      0.051      4.143      0.000         0.112     0.313\n",
       "=================================================================================\n",
       "\"\"\""
      ]
     },
     "execution_count": 103,
     "metadata": {},
     "output_type": "execute_result"
    }
   ],
   "source": [
    "# This is another summary stats page \n",
    "\n",
    "mdl_margeff = result.get_margeff()\n",
    "mdl_margeff.summary()"
   ]
  },
  {
   "cell_type": "code",
   "execution_count": 111,
   "metadata": {
    "collapsed": false
   },
   "outputs": [
    {
     "data": {
      "text/plain": [
       "array([[  8.03200522e-01,   3.60089939e-07,   1.96799118e-01]])"
      ]
     },
     "execution_count": 111,
     "metadata": {},
     "output_type": "execute_result"
    }
   ],
   "source": [
    "result.predict([3, 4, 1, 5, 1])"
   ]
  },
  {
   "cell_type": "code",
   "execution_count": null,
   "metadata": {
    "collapsed": true
   },
   "outputs": [],
   "source": []
  }
 ],
 "metadata": {
  "kernelspec": {
   "display_name": "Python 2",
   "language": "python",
   "name": "python2"
  },
  "language_info": {
   "codemirror_mode": {
    "name": "ipython",
    "version": 2
   },
   "file_extension": ".py",
   "mimetype": "text/x-python",
   "name": "python",
   "nbconvert_exporter": "python",
   "pygments_lexer": "ipython2",
   "version": "2.7.11"
  }
 },
 "nbformat": 4,
 "nbformat_minor": 0
}
