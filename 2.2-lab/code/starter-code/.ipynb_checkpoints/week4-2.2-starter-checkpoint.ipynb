{
 "cells": [
  {
   "cell_type": "markdown",
   "metadata": {},
   "source": [
    "Inform Python we will use the StatsModels Library"
   ]
  },
  {
   "cell_type": "code",
   "execution_count": 4,
   "metadata": {
    "collapsed": true
   },
   "outputs": [],
   "source": [
    "import statsmodels.api as sm"
   ]
  },
  {
   "cell_type": "markdown",
   "metadata": {},
   "source": [
    "Use IRIS Dataset"
   ]
  },
  {
   "cell_type": "code",
   "execution_count": 5,
   "metadata": {
    "collapsed": true
   },
   "outputs": [],
   "source": [
    "# import the dataset, declare target and features\n",
    "iris = st.datasets.get_rdataset('iris','datasets')\n",
    "y = iris.data.Species \n",
    "X = iris.data.ix[:, 0:4]"
   ]
  },
  {
   "cell_type": "markdown",
   "metadata": {},
   "source": [
    "Setup the Logistic Regression "
   ]
  },
  {
   "cell_type": "code",
   "execution_count": 6,
   "metadata": {
    "collapsed": false
   },
   "outputs": [],
   "source": [
    "# add column of ones for our y-intercept (http://blog.yhat.com/posts/logistic-regression-and-python.html)\n",
    "\n",
    "#declare our model\n",
    "mdl = sm.MNLogit(y, X)"
   ]
  },
  {
   "cell_type": "markdown",
   "metadata": {},
   "source": [
    "Perform the Regression using the Fit Method"
   ]
  },
  {
   "cell_type": "code",
   "execution_count": 7,
   "metadata": {
    "collapsed": false
   },
   "outputs": [
    {
     "name": "stdout",
     "output_type": "stream",
     "text": [
      "Warning: Maximum number of iterations has been exceeded.\n",
      "         Current function value: 0.072266\n",
      "         Iterations: 35\n"
     ]
    },
    {
     "name": "stderr",
     "output_type": "stream",
     "text": [
      "/Users/Rebecca/anaconda/lib/python2.7/site-packages/statsmodels/base/model.py:466: ConvergenceWarning: Maximum Likelihood optimization failed to converge. Check mle_retvals\n",
      "  \"Check mle_retvals\", ConvergenceWarning)\n"
     ]
    }
   ],
   "source": [
    "mdl_fit = mdl.fit()"
   ]
  },
  {
   "cell_type": "markdown",
   "metadata": {},
   "source": [
    "Print a summary of the results"
   ]
  },
  {
   "cell_type": "code",
   "execution_count": 8,
   "metadata": {
    "collapsed": false
   },
   "outputs": [
    {
     "data": {
      "text/html": [
       "<table class=\"simpletable\">\n",
       "<caption>MNLogit Regression Results</caption>\n",
       "<tr>\n",
       "  <th>Dep. Variable:</th>      <td>Species</td>     <th>  No. Observations:  </th>  <td>   150</td>  \n",
       "</tr>\n",
       "<tr>\n",
       "  <th>Model:</th>              <td>MNLogit</td>     <th>  Df Residuals:      </th>  <td>   142</td>  \n",
       "</tr>\n",
       "<tr>\n",
       "  <th>Method:</th>               <td>MLE</td>       <th>  Df Model:          </th>  <td>     6</td>  \n",
       "</tr>\n",
       "<tr>\n",
       "  <th>Date:</th>          <td>Tue, 03 May 2016</td> <th>  Pseudo R-squ.:     </th>  <td>0.9342</td>  \n",
       "</tr>\n",
       "<tr>\n",
       "  <th>Time:</th>              <td>14:15:40</td>     <th>  Log-Likelihood:    </th> <td> -10.840</td> \n",
       "</tr>\n",
       "<tr>\n",
       "  <th>converged:</th>           <td>False</td>      <th>  LL-Null:           </th> <td> -164.79</td> \n",
       "</tr>\n",
       "<tr>\n",
       "  <th> </th>                      <td> </td>        <th>  LLR p-value:       </th> <td>1.655e-63</td>\n",
       "</tr>\n",
       "</table>\n",
       "<table class=\"simpletable\">\n",
       "<tr>\n",
       "  <th>Species=versicolor</th>    <th>coef</th>     <th>std err</th>      <th>z</th>      <th>P>|z|</th> <th>[95.0% Conf. Int.]</th> \n",
       "</tr>\n",
       "<tr>\n",
       "  <th>Sepal.Length</th>       <td>   -7.5128</td> <td> 1.42e+04</td> <td>   -0.001</td> <td> 1.000</td> <td>-2.79e+04  2.79e+04</td>\n",
       "</tr>\n",
       "<tr>\n",
       "  <th>Sepal.Width</th>        <td>   -6.1076</td> <td> 1.76e+04</td> <td>   -0.000</td> <td> 1.000</td> <td>-3.45e+04  3.45e+04</td>\n",
       "</tr>\n",
       "<tr>\n",
       "  <th>Petal.Length</th>       <td>   17.6397</td> <td> 2.19e+04</td> <td>    0.001</td> <td> 0.999</td> <td>-4.28e+04  4.29e+04</td>\n",
       "</tr>\n",
       "<tr>\n",
       "  <th>Petal.Width</th>        <td>   18.8750</td> <td> 4.21e+04</td> <td>    0.000</td> <td> 1.000</td> <td>-8.26e+04  8.26e+04</td>\n",
       "</tr>\n",
       "<tr>\n",
       "  <th>Species=virginica</th>    <th>coef</th>     <th>std err</th>      <th>z</th>      <th>P>|z|</th> <th>[95.0% Conf. Int.]</th> \n",
       "</tr>\n",
       "<tr>\n",
       "  <th>Sepal.Length</th>      <td>  -13.8405</td> <td> 1.42e+04</td> <td>   -0.001</td> <td> 0.999</td> <td>-2.79e+04  2.79e+04</td>\n",
       "</tr>\n",
       "<tr>\n",
       "  <th>Sepal.Width</th>       <td>  -12.7258</td> <td> 1.76e+04</td> <td>   -0.001</td> <td> 0.999</td> <td>-3.45e+04  3.45e+04</td>\n",
       "</tr>\n",
       "<tr>\n",
       "  <th>Petal.Length</th>      <td>   26.0735</td> <td> 2.19e+04</td> <td>    0.001</td> <td> 0.999</td> <td>-4.28e+04  4.29e+04</td>\n",
       "</tr>\n",
       "<tr>\n",
       "  <th>Petal.Width</th>       <td>   29.1576</td> <td> 4.21e+04</td> <td>    0.001</td> <td> 0.999</td> <td>-8.26e+04  8.26e+04</td>\n",
       "</tr>\n",
       "</table>"
      ],
      "text/plain": [
       "<class 'statsmodels.iolib.summary.Summary'>\n",
       "\"\"\"\n",
       "                          MNLogit Regression Results                          \n",
       "==============================================================================\n",
       "Dep. Variable:                Species   No. Observations:                  150\n",
       "Model:                        MNLogit   Df Residuals:                      142\n",
       "Method:                           MLE   Df Model:                            6\n",
       "Date:                Tue, 03 May 2016   Pseudo R-squ.:                  0.9342\n",
       "Time:                        14:15:40   Log-Likelihood:                -10.840\n",
       "converged:                      False   LL-Null:                       -164.79\n",
       "                                        LLR p-value:                 1.655e-63\n",
       "=====================================================================================\n",
       "Species=versicolor       coef    std err          z      P>|z|      [95.0% Conf. Int.]\n",
       "--------------------------------------------------------------------------------------\n",
       "Sepal.Length          -7.5128   1.42e+04     -0.001      1.000     -2.79e+04  2.79e+04\n",
       "Sepal.Width           -6.1076   1.76e+04     -0.000      1.000     -3.45e+04  3.45e+04\n",
       "Petal.Length          17.6397   2.19e+04      0.001      0.999     -4.28e+04  4.29e+04\n",
       "Petal.Width           18.8750   4.21e+04      0.000      1.000     -8.26e+04  8.26e+04\n",
       "--------------------------------------------------------------------------------------\n",
       "Species=virginica       coef    std err          z      P>|z|      [95.0% Conf. Int.]\n",
       "-------------------------------------------------------------------------------------\n",
       "Sepal.Length        -13.8405   1.42e+04     -0.001      0.999     -2.79e+04  2.79e+04\n",
       "Sepal.Width         -12.7258   1.76e+04     -0.001      0.999     -3.45e+04  3.45e+04\n",
       "Petal.Length         26.0735   2.19e+04      0.001      0.999     -4.28e+04  4.29e+04\n",
       "Petal.Width          29.1576   4.21e+04      0.001      0.999     -8.26e+04  8.26e+04\n",
       "=====================================================================================\n",
       "\"\"\""
      ]
     },
     "execution_count": 8,
     "metadata": {},
     "output_type": "execute_result"
    }
   ],
   "source": [
    "mdl_fit.summary()"
   ]
  }
 ],
 "metadata": {
  "kernelspec": {
   "display_name": "Python 2",
   "language": "python",
   "name": "python2"
  },
  "language_info": {
   "codemirror_mode": {
    "name": "ipython",
    "version": 2
   },
   "file_extension": ".py",
   "mimetype": "text/x-python",
   "name": "python",
   "nbconvert_exporter": "python",
   "pygments_lexer": "ipython2",
   "version": "2.7.11"
  }
 },
 "nbformat": 4,
 "nbformat_minor": 0
}
