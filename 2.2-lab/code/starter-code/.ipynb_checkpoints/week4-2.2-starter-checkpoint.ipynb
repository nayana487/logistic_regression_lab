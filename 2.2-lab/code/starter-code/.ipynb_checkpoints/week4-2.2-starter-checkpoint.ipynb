{
 "cells": [
  {
   "cell_type": "markdown",
   "metadata": {},
   "source": [
    "Inform Python we will use the StatsModels Library"
   ]
  },
  {
   "cell_type": "code",
   "execution_count": 54,
   "metadata": {
    "collapsed": true
   },
   "outputs": [],
   "source": [
    "import statsmodels.api as st"
   ]
  },
  {
   "cell_type": "markdown",
   "metadata": {},
   "source": [
    "Use IRIS Dataset"
   ]
  },
  {
   "cell_type": "code",
   "execution_count": 55,
   "metadata": {
    "collapsed": false
   },
   "outputs": [],
   "source": [
    "# import the dataset, declare target and features\n",
    "iris = st.datasets.get_rdataset('iris','datasets')\n",
    "y = iris.data.Species \n",
    "X = iris.data.ix[:, 0:4]"
   ]
  },
  {
   "cell_type": "markdown",
   "metadata": {},
   "source": [
    "Setup the Logistic Regression "
   ]
  },
  {
   "cell_type": "code",
   "execution_count": 56,
   "metadata": {
    "collapsed": false
   },
   "outputs": [],
   "source": [
    "# add column of ones for our y-intercept (http://blog.yhat.com/posts/logistic-regression-and-python.html)\n",
    "#declare our model\n",
    "model = st.MNLogit(y,X)"
   ]
  },
  {
   "cell_type": "markdown",
   "metadata": {},
   "source": [
    "Perform the Regression using the Fit Method"
   ]
  },
  {
   "cell_type": "code",
   "execution_count": 57,
   "metadata": {
    "collapsed": false
   },
   "outputs": [
    {
     "name": "stdout",
     "output_type": "stream",
     "text": [
      "Warning: Maximum number of iterations has been exceeded.\n",
      "         Current function value: 0.072266\n",
      "         Iterations: 35\n"
     ]
    },
    {
     "name": "stderr",
     "output_type": "stream",
     "text": [
      "/Users/Brian/anaconda/lib/python2.7/site-packages/statsmodels/base/model.py:466: ConvergenceWarning: Maximum Likelihood optimization failed to converge. Check mle_retvals\n",
      "  \"Check mle_retvals\", ConvergenceWarning)\n"
     ]
    }
   ],
   "source": [
    "model_fit = model.fit()"
   ]
  },
  {
   "cell_type": "markdown",
   "metadata": {},
   "source": [
    "Print a summary of the results"
   ]
  },
  {
   "cell_type": "code",
   "execution_count": 58,
   "metadata": {
    "collapsed": false
   },
   "outputs": [
    {
     "name": "stdout",
     "output_type": "stream",
     "text": [
      "                          MNLogit Regression Results                          \n",
      "==============================================================================\n",
      "Dep. Variable:                Species   No. Observations:                  150\n",
      "Model:                        MNLogit   Df Residuals:                      142\n",
      "Method:                           MLE   Df Model:                            6\n",
      "Date:                Tue, 03 May 2016   Pseudo R-squ.:                  0.9342\n",
      "Time:                        17:50:50   Log-Likelihood:                -10.840\n",
      "converged:                      False   LL-Null:                       -164.79\n",
      "                                        LLR p-value:                 1.655e-63\n",
      "=====================================================================================\n",
      "Species=versicolor       coef    std err          z      P>|z|      [95.0% Conf. Int.]\n",
      "--------------------------------------------------------------------------------------\n",
      "Sepal.Length          -7.5128   1.42e+04     -0.001      1.000     -2.79e+04  2.79e+04\n",
      "Sepal.Width           -6.1076   1.76e+04     -0.000      1.000     -3.45e+04  3.45e+04\n",
      "Petal.Length          17.6397   2.19e+04      0.001      0.999     -4.28e+04  4.29e+04\n",
      "Petal.Width           18.8750   4.21e+04      0.000      1.000     -8.26e+04  8.26e+04\n",
      "--------------------------------------------------------------------------------------\n",
      "Species=virginica       coef    std err          z      P>|z|      [95.0% Conf. Int.]\n",
      "-------------------------------------------------------------------------------------\n",
      "Sepal.Length        -13.8405   1.42e+04     -0.001      0.999     -2.79e+04  2.79e+04\n",
      "Sepal.Width         -12.7258   1.76e+04     -0.001      0.999     -3.45e+04  3.45e+04\n",
      "Petal.Length         26.0735   2.19e+04      0.001      0.999     -4.28e+04  4.29e+04\n",
      "Petal.Width          29.1576   4.21e+04      0.001      0.999     -8.26e+04  8.26e+04\n",
      "=====================================================================================\n"
     ]
    }
   ],
   "source": [
    "print model_fit.summary()"
   ]
  },
  {
   "cell_type": "code",
   "execution_count": 61,
   "metadata": {
    "collapsed": false
   },
   "outputs": [
    {
     "name": "stdout",
     "output_type": "stream",
     "text": [
      "       MNLogit Marginal Effects      \n",
      "=====================================\n",
      "Dep. Variable:                Species\n",
      "Method:                          dydx\n",
      "At:                           overall\n",
      "=====================================================================================\n",
      "    Species=setosa      dy/dx    std err          z      P>|z|      [95.0% Conf. Int.]\n",
      "--------------------------------------------------------------------------------------\n",
      "Sepal.Length        1.055e-09   7.15e-06      0.000      1.000      -1.4e-05   1.4e-05\n",
      "Sepal.Width         8.574e-10   6.14e-06      0.000      1.000      -1.2e-05   1.2e-05\n",
      "Petal.Length       -2.476e-09   1.64e-05     -0.000      1.000     -3.22e-05  3.22e-05\n",
      "Petal.Width         -2.65e-09   1.83e-05     -0.000      1.000     -3.59e-05  3.59e-05\n",
      "--------------------------------------------------------------------------------------\n",
      "Species=versicolor      dy/dx    std err          z      P>|z|      [95.0% Conf. Int.]\n",
      "--------------------------------------------------------------------------------------\n",
      "Sepal.Length           0.1386      0.040      3.449      0.001         0.060     0.217\n",
      "Sepal.Width            0.1450      0.038      3.860      0.000         0.071     0.219\n",
      "Petal.Length          -0.1847      0.060     -3.075      0.002        -0.302    -0.067\n",
      "Petal.Width           -0.2252      0.030     -7.633      0.000        -0.283    -0.167\n",
      "--------------------------------------------------------------------------------------\n",
      "Species=virginica      dy/dx    std err          z      P>|z|      [95.0% Conf. Int.]\n",
      "-------------------------------------------------------------------------------------\n",
      "Sepal.Length         -0.1386      0.040     -3.449      0.001        -0.217    -0.060\n",
      "Sepal.Width          -0.1450      0.038     -3.860      0.000        -0.219    -0.071\n",
      "Petal.Length          0.1847      0.060      3.075      0.002         0.067     0.302\n",
      "Petal.Width           0.2252      0.030      7.633      0.000         0.167     0.283\n",
      "=====================================================================================\n"
     ]
    }
   ],
   "source": [
    "model_margeff = model_fit.get_margeff()\n",
    "print model_margeff.summary()"
   ]
  },
  {
   "cell_type": "code",
   "execution_count": null,
   "metadata": {
    "collapsed": true
   },
   "outputs": [],
   "source": []
  }
 ],
 "metadata": {
  "kernelspec": {
   "display_name": "Python 2",
   "language": "python",
   "name": "python2"
  },
  "language_info": {
   "codemirror_mode": {
    "name": "ipython",
    "version": 2
   },
   "file_extension": ".py",
   "mimetype": "text/x-python",
   "name": "python",
   "nbconvert_exporter": "python",
   "pygments_lexer": "ipython2",
   "version": "2.7.11"
  }
 },
 "nbformat": 4,
 "nbformat_minor": 0
}
