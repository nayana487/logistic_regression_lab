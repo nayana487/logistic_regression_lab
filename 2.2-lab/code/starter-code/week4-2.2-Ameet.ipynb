{
 "cells": [
  {
   "cell_type": "markdown",
   "metadata": {},
   "source": [
    "Inform Python we will use the StatsModels Library"
   ]
  },
  {
   "cell_type": "code",
   "execution_count": 33,
   "metadata": {
    "collapsed": true
   },
   "outputs": [],
   "source": [
    "import statsmodels.api as st\n",
    "import statsmodels.formula.api as smf"
   ]
  },
  {
   "cell_type": "markdown",
   "metadata": {},
   "source": [
    "Use IRIS Dataset"
   ]
  },
  {
   "cell_type": "code",
   "execution_count": 34,
   "metadata": {
    "collapsed": true
   },
   "outputs": [],
   "source": [
    "# import the dataset, declare target and features\n",
    "iris = st.datasets.get_rdataset('iris','datasets')\n",
    "y = iris.data.Species \n",
    "X = iris.data.ix[:, 0:4]"
   ]
  },
  {
   "cell_type": "code",
   "execution_count": 35,
   "metadata": {
    "collapsed": false
   },
   "outputs": [
    {
     "data": {
      "text/plain": [
       "0         setosa\n",
       "1         setosa\n",
       "2         setosa\n",
       "3         setosa\n",
       "4         setosa\n",
       "5         setosa\n",
       "6         setosa\n",
       "7         setosa\n",
       "8         setosa\n",
       "9         setosa\n",
       "10        setosa\n",
       "11        setosa\n",
       "12        setosa\n",
       "13        setosa\n",
       "14        setosa\n",
       "15        setosa\n",
       "16        setosa\n",
       "17        setosa\n",
       "18        setosa\n",
       "19        setosa\n",
       "20        setosa\n",
       "21        setosa\n",
       "22        setosa\n",
       "23        setosa\n",
       "24        setosa\n",
       "25        setosa\n",
       "26        setosa\n",
       "27        setosa\n",
       "28        setosa\n",
       "29        setosa\n",
       "         ...    \n",
       "120    virginica\n",
       "121    virginica\n",
       "122    virginica\n",
       "123    virginica\n",
       "124    virginica\n",
       "125    virginica\n",
       "126    virginica\n",
       "127    virginica\n",
       "128    virginica\n",
       "129    virginica\n",
       "130    virginica\n",
       "131    virginica\n",
       "132    virginica\n",
       "133    virginica\n",
       "134    virginica\n",
       "135    virginica\n",
       "136    virginica\n",
       "137    virginica\n",
       "138    virginica\n",
       "139    virginica\n",
       "140    virginica\n",
       "141    virginica\n",
       "142    virginica\n",
       "143    virginica\n",
       "144    virginica\n",
       "145    virginica\n",
       "146    virginica\n",
       "147    virginica\n",
       "148    virginica\n",
       "149    virginica\n",
       "Name: Species, dtype: object"
      ]
     },
     "execution_count": 35,
     "metadata": {},
     "output_type": "execute_result"
    }
   ],
   "source": [
    "#examine y\n",
    "y"
   ]
  },
  {
   "cell_type": "markdown",
   "metadata": {},
   "source": [
    "Setup the Logistic Regression "
   ]
  },
  {
   "cell_type": "code",
   "execution_count": 36,
   "metadata": {
    "collapsed": false
   },
   "outputs": [],
   "source": [
    "# add column of ones for our y-intercept (http://blog.yhat.com/posts/logistic-regression-and-python.html)\n",
    "X['intercept'] = 1.0\n",
    "#declare our model\n",
    "\n",
    "MNlogit = st.MNLogit(y, X)\n"
   ]
  },
  {
   "cell_type": "markdown",
   "metadata": {},
   "source": [
    "Perform the Regression using the Fit Method"
   ]
  },
  {
   "cell_type": "code",
   "execution_count": 37,
   "metadata": {
    "collapsed": false
   },
   "outputs": [
    {
     "name": "stdout",
     "output_type": "stream",
     "text": [
      "Warning: Maximum number of iterations has been exceeded.\n",
      "         Current function value: 0.057112\n",
      "         Iterations: 35\n",
      "         Function evaluations: 37\n",
      "         Gradient evaluations: 37\n"
     ]
    },
    {
     "name": "stderr",
     "output_type": "stream",
     "text": [
      "//anaconda/lib/python2.7/site-packages/statsmodels/base/model.py:466: ConvergenceWarning: Maximum Likelihood optimization failed to converge. Check mle_retvals\n",
      "  \"Check mle_retvals\", ConvergenceWarning)\n"
     ]
    },
    {
     "data": {
      "text/plain": [
       "<statsmodels.discrete.discrete_model.MultinomialResultsWrapper at 0x1151e19d0>"
      ]
     },
     "execution_count": 37,
     "metadata": {},
     "output_type": "execute_result"
    }
   ],
   "source": [
    "result = MNlogit.fit(method = 'bfgs')\n",
    "result"
   ]
  },
  {
   "cell_type": "markdown",
   "metadata": {},
   "source": [
    "Print a summary of the results"
   ]
  },
  {
   "cell_type": "code",
   "execution_count": 13,
   "metadata": {
    "collapsed": false
   },
   "outputs": [
    {
     "data": {
      "text/html": [
       "<table class=\"simpletable\">\n",
       "<caption>MNLogit Regression Results</caption>\n",
       "<tr>\n",
       "  <th>Dep. Variable:</th>      <td>Species</td>     <th>  No. Observations:  </th>  <td>   150</td>  \n",
       "</tr>\n",
       "<tr>\n",
       "  <th>Model:</th>              <td>MNLogit</td>     <th>  Df Residuals:      </th>  <td>   140</td>  \n",
       "</tr>\n",
       "<tr>\n",
       "  <th>Method:</th>               <td>MLE</td>       <th>  Df Model:          </th>  <td>     8</td>  \n",
       "</tr>\n",
       "<tr>\n",
       "  <th>Date:</th>          <td>Tue, 03 May 2016</td> <th>  Pseudo R-squ.:     </th>  <td>0.9480</td>  \n",
       "</tr>\n",
       "<tr>\n",
       "  <th>Time:</th>              <td>14:59:19</td>     <th>  Log-Likelihood:    </th> <td> -8.5668</td> \n",
       "</tr>\n",
       "<tr>\n",
       "  <th>converged:</th>           <td>False</td>      <th>  LL-Null:           </th> <td> -164.79</td> \n",
       "</tr>\n",
       "<tr>\n",
       "  <th> </th>                      <td> </td>        <th>  LLR p-value:       </th> <td>9.200e-63</td>\n",
       "</tr>\n",
       "</table>\n",
       "<table class=\"simpletable\">\n",
       "<tr>\n",
       "  <th>Species=versicolor</th>    <th>coef</th>     <th>std err</th>      <th>z</th>      <th>P>|z|</th> <th>[95.0% Conf. Int.]</th> \n",
       "</tr>\n",
       "<tr>\n",
       "  <th>Sepal.Length</th>       <td>   -1.4959</td> <td>  444.817</td> <td>   -0.003</td> <td> 0.997</td> <td> -873.321   870.330</td>\n",
       "</tr>\n",
       "<tr>\n",
       "  <th>Sepal.Width</th>        <td>   -8.0560</td> <td>  282.766</td> <td>   -0.028</td> <td> 0.977</td> <td> -562.267   546.155</td>\n",
       "</tr>\n",
       "<tr>\n",
       "  <th>Petal.Length</th>       <td>   11.9301</td> <td>  374.116</td> <td>    0.032</td> <td> 0.975</td> <td> -721.324   745.184</td>\n",
       "</tr>\n",
       "<tr>\n",
       "  <th>Petal.Width</th>        <td>    1.7039</td> <td>  759.366</td> <td>    0.002</td> <td> 0.998</td> <td>-1486.627  1490.035</td>\n",
       "</tr>\n",
       "<tr>\n",
       "  <th>intercept</th>          <td>    1.6444</td> <td> 1550.515</td> <td>    0.001</td> <td> 0.999</td> <td>-3037.309  3040.597</td>\n",
       "</tr>\n",
       "<tr>\n",
       "  <th>Species=virginica</th>    <th>coef</th>     <th>std err</th>      <th>z</th>      <th>P>|z|</th> <th>[95.0% Conf. Int.]</th> \n",
       "</tr>\n",
       "<tr>\n",
       "  <th>Sepal.Length</th>      <td>   -8.0348</td> <td>  444.835</td> <td>   -0.018</td> <td> 0.986</td> <td> -879.896   863.827</td>\n",
       "</tr>\n",
       "<tr>\n",
       "  <th>Sepal.Width</th>       <td>  -15.8195</td> <td>  282.793</td> <td>   -0.056</td> <td> 0.955</td> <td> -570.083   538.444</td>\n",
       "</tr>\n",
       "<tr>\n",
       "  <th>Petal.Length</th>      <td>   22.1797</td> <td>  374.155</td> <td>    0.059</td> <td> 0.953</td> <td> -711.152   755.511</td>\n",
       "</tr>\n",
       "<tr>\n",
       "  <th>Petal.Width</th>       <td>   14.0603</td> <td>  759.384</td> <td>    0.019</td> <td> 0.985</td> <td>-1474.304  1502.425</td>\n",
       "</tr>\n",
       "<tr>\n",
       "  <th>intercept</th>         <td>   -6.5053</td> <td> 1550.533</td> <td>   -0.004</td> <td> 0.997</td> <td>-3045.494  3032.483</td>\n",
       "</tr>\n",
       "</table>"
      ],
      "text/plain": [
       "<class 'statsmodels.iolib.summary.Summary'>\n",
       "\"\"\"\n",
       "                          MNLogit Regression Results                          \n",
       "==============================================================================\n",
       "Dep. Variable:                Species   No. Observations:                  150\n",
       "Model:                        MNLogit   Df Residuals:                      140\n",
       "Method:                           MLE   Df Model:                            8\n",
       "Date:                Tue, 03 May 2016   Pseudo R-squ.:                  0.9480\n",
       "Time:                        14:59:19   Log-Likelihood:                -8.5668\n",
       "converged:                      False   LL-Null:                       -164.79\n",
       "                                        LLR p-value:                 9.200e-63\n",
       "=====================================================================================\n",
       "Species=versicolor       coef    std err          z      P>|z|      [95.0% Conf. Int.]\n",
       "--------------------------------------------------------------------------------------\n",
       "Sepal.Length          -1.4959    444.817     -0.003      0.997      -873.321   870.330\n",
       "Sepal.Width           -8.0560    282.766     -0.028      0.977      -562.267   546.155\n",
       "Petal.Length          11.9301    374.116      0.032      0.975      -721.324   745.184\n",
       "Petal.Width            1.7039    759.366      0.002      0.998     -1486.627  1490.035\n",
       "intercept              1.6444   1550.515      0.001      0.999     -3037.309  3040.597\n",
       "--------------------------------------------------------------------------------------\n",
       "Species=virginica       coef    std err          z      P>|z|      [95.0% Conf. Int.]\n",
       "-------------------------------------------------------------------------------------\n",
       "Sepal.Length         -8.0348    444.835     -0.018      0.986      -879.896   863.827\n",
       "Sepal.Width         -15.8195    282.793     -0.056      0.955      -570.083   538.444\n",
       "Petal.Length         22.1797    374.155      0.059      0.953      -711.152   755.511\n",
       "Petal.Width          14.0603    759.384      0.019      0.985     -1474.304  1502.425\n",
       "intercept            -6.5053   1550.533     -0.004      0.997     -3045.494  3032.483\n",
       "=====================================================================================\n",
       "\"\"\""
      ]
     },
     "execution_count": 13,
     "metadata": {},
     "output_type": "execute_result"
    }
   ],
   "source": [
    "result.summary()"
   ]
  },
  {
   "cell_type": "markdown",
   "metadata": {},
   "source": [
    "## Initial discussion of the model\n",
    "\n",
    "As we can see from the model, the Pseudo R-squared is high. However, there is one problem with this regression:\n",
    "\n",
    "* The Z-tests on each parameter in the model output. All are so close to 1 and with such large standard errors that the probability that they are null can not be ignored.\n",
    "\n",
    "This is even with a p-value on the log likelihood ratio indicating that the model as a whole could be used for prediction.\n",
    "\n",
    "This brings us to...\n",
    "\n",
    "## Tuning the model\n",
    "\n",
    "If we suspect the model's fit, we should consider estimating the likelihood of a flower being a type of iris, but remove one of the exogenous variables. It is possible that at least one is highly correlated, causing an issue with the fit.\n",
    "\n",
    "All else equal, I would approach it by taking out the highest p-value variable first. This is petal_width.\n",
    "\n",
    "### Addendum\n",
    "\n",
    "Also, for what it is worth, the documentation here specifies needing to specify an intercept: http://statsmodels.sourceforge.net/devel/_modules/statsmodels/discrete/discrete_model.html#MNLogit\n",
    "\n",
    "The broader question is what specifying the intercept allows the model to do."
   ]
  },
  {
   "cell_type": "code",
   "execution_count": 51,
   "metadata": {
    "collapsed": false
   },
   "outputs": [],
   "source": [
    "#So let's consider tuning the model by taking out petal_width.\n",
    "\n",
    "X_new = iris.data.ix[:, 0:3]\n",
    "\n",
    "#Add constant\n",
    "\n",
    "X_new = st.add_constant(X_new, prepend = False)\n",
    "\n",
    "#Declar the model\n",
    "MNlogit2 = st.MNLogit(y, X_new)"
   ]
  },
  {
   "cell_type": "code",
   "execution_count": 53,
   "metadata": {
    "collapsed": false
   },
   "outputs": [
    {
     "name": "stdout",
     "output_type": "stream",
     "text": [
      "Warning: Maximum number of iterations has been exceeded.\n",
      "         Current function value: 0.088094\n",
      "         Iterations: 35\n",
      "         Function evaluations: 38\n",
      "         Gradient evaluations: 38\n"
     ]
    },
    {
     "name": "stderr",
     "output_type": "stream",
     "text": [
      "//anaconda/lib/python2.7/site-packages/statsmodels/base/model.py:466: ConvergenceWarning: Maximum Likelihood optimization failed to converge. Check mle_retvals\n",
      "  \"Check mle_retvals\", ConvergenceWarning)\n"
     ]
    },
    {
     "data": {
      "text/html": [
       "<table class=\"simpletable\">\n",
       "<caption>MNLogit Regression Results</caption>\n",
       "<tr>\n",
       "  <th>Dep. Variable:</th>      <td>Species</td>     <th>  No. Observations:  </th>  <td>   150</td>  \n",
       "</tr>\n",
       "<tr>\n",
       "  <th>Model:</th>              <td>MNLogit</td>     <th>  Df Residuals:      </th>  <td>   142</td>  \n",
       "</tr>\n",
       "<tr>\n",
       "  <th>Method:</th>               <td>MLE</td>       <th>  Df Model:          </th>  <td>     6</td>  \n",
       "</tr>\n",
       "<tr>\n",
       "  <th>Date:</th>          <td>Tue, 03 May 2016</td> <th>  Pseudo R-squ.:     </th>  <td>0.9198</td>  \n",
       "</tr>\n",
       "<tr>\n",
       "  <th>Time:</th>              <td>22:59:58</td>     <th>  Log-Likelihood:    </th> <td> -13.214</td> \n",
       "</tr>\n",
       "<tr>\n",
       "  <th>converged:</th>           <td>False</td>      <th>  LL-Null:           </th> <td> -164.79</td> \n",
       "</tr>\n",
       "<tr>\n",
       "  <th> </th>                      <td> </td>        <th>  LLR p-value:       </th> <td>1.724e-62</td>\n",
       "</tr>\n",
       "</table>\n",
       "<table class=\"simpletable\">\n",
       "<tr>\n",
       "  <th>Species=versicolor</th>    <th>coef</th>     <th>std err</th>      <th>z</th>      <th>P>|z|</th> <th>[95.0% Conf. Int.]</th> \n",
       "</tr>\n",
       "<tr>\n",
       "  <th>Sepal.Length</th>       <td>   -2.9862</td> <td> 2118.657</td> <td>   -0.001</td> <td> 0.999</td> <td>-4155.477  4149.505</td>\n",
       "</tr>\n",
       "<tr>\n",
       "  <th>Sepal.Width</th>        <td>  -11.4595</td> <td> 1276.495</td> <td>   -0.009</td> <td> 0.993</td> <td>-2513.344  2490.425</td>\n",
       "</tr>\n",
       "<tr>\n",
       "  <th>Petal.Length</th>       <td>   14.4379</td> <td>  717.141</td> <td>    0.020</td> <td> 0.984</td> <td>-1391.133  1420.009</td>\n",
       "</tr>\n",
       "<tr>\n",
       "  <th>const</th>              <td>   10.8274</td> <td> 7182.336</td> <td>    0.002</td> <td> 0.999</td> <td>-1.41e+04  1.41e+04</td>\n",
       "</tr>\n",
       "<tr>\n",
       "  <th>Species=virginica</th>    <th>coef</th>     <th>std err</th>      <th>z</th>      <th>P>|z|</th> <th>[95.0% Conf. Int.]</th> \n",
       "</tr>\n",
       "<tr>\n",
       "  <th>Sepal.Length</th>      <td>   -5.7800</td> <td> 2118.657</td> <td>   -0.003</td> <td> 0.998</td> <td>-4158.272  4146.712</td>\n",
       "</tr>\n",
       "<tr>\n",
       "  <th>Sepal.Width</th>       <td>  -13.9999</td> <td> 1276.497</td> <td>   -0.011</td> <td> 0.991</td> <td>-2515.888  2487.888</td>\n",
       "</tr>\n",
       "<tr>\n",
       "  <th>Petal.Length</th>      <td>   24.8938</td> <td>  717.146</td> <td>    0.035</td> <td> 0.972</td> <td>-1380.687  1430.475</td>\n",
       "</tr>\n",
       "<tr>\n",
       "  <th>const</th>             <td>  -15.9440</td> <td> 7182.342</td> <td>   -0.002</td> <td> 0.998</td> <td>-1.41e+04  1.41e+04</td>\n",
       "</tr>\n",
       "</table>"
      ],
      "text/plain": [
       "<class 'statsmodels.iolib.summary.Summary'>\n",
       "\"\"\"\n",
       "                          MNLogit Regression Results                          \n",
       "==============================================================================\n",
       "Dep. Variable:                Species   No. Observations:                  150\n",
       "Model:                        MNLogit   Df Residuals:                      142\n",
       "Method:                           MLE   Df Model:                            6\n",
       "Date:                Tue, 03 May 2016   Pseudo R-squ.:                  0.9198\n",
       "Time:                        22:59:58   Log-Likelihood:                -13.214\n",
       "converged:                      False   LL-Null:                       -164.79\n",
       "                                        LLR p-value:                 1.724e-62\n",
       "=====================================================================================\n",
       "Species=versicolor       coef    std err          z      P>|z|      [95.0% Conf. Int.]\n",
       "--------------------------------------------------------------------------------------\n",
       "Sepal.Length          -2.9862   2118.657     -0.001      0.999     -4155.477  4149.505\n",
       "Sepal.Width          -11.4595   1276.495     -0.009      0.993     -2513.344  2490.425\n",
       "Petal.Length          14.4379    717.141      0.020      0.984     -1391.133  1420.009\n",
       "const                 10.8274   7182.336      0.002      0.999     -1.41e+04  1.41e+04\n",
       "--------------------------------------------------------------------------------------\n",
       "Species=virginica       coef    std err          z      P>|z|      [95.0% Conf. Int.]\n",
       "-------------------------------------------------------------------------------------\n",
       "Sepal.Length         -5.7800   2118.657     -0.003      0.998     -4158.272  4146.712\n",
       "Sepal.Width         -13.9999   1276.497     -0.011      0.991     -2515.888  2487.888\n",
       "Petal.Length         24.8938    717.146      0.035      0.972     -1380.687  1430.475\n",
       "const               -15.9440   7182.342     -0.002      0.998     -1.41e+04  1.41e+04\n",
       "=====================================================================================\n",
       "\"\"\""
      ]
     },
     "execution_count": 53,
     "metadata": {},
     "output_type": "execute_result"
    }
   ],
   "source": [
    "#Fitted the model and printed summary stats\n",
    "result2 = MNlogit2.fit(method = 'bfgs')\n",
    "result2.summary()"
   ]
  },
  {
   "cell_type": "markdown",
   "metadata": {},
   "source": [
    "### Tuning the model continued.\n",
    "\n",
    "Dropping Petal Width did not improve the model. The p-values for the remaining variables are still too high. Testing dropping sepal length."
   ]
  },
  {
   "cell_type": "code",
   "execution_count": 56,
   "metadata": {
    "collapsed": false
   },
   "outputs": [],
   "source": [
    "#Trimmed data for model tuning. No petal width or sepal length\n",
    "X_2 = iris.data.ix[:, 1:3]\n",
    "\n",
    "#Adding constant\n",
    "X_2 = st.add_constant(X_2, prepend = False)\n",
    "\n",
    "#Declaring model\n",
    "MNlogit3 = st.MNLogit(y, X_2)"
   ]
  },
  {
   "cell_type": "code",
   "execution_count": 58,
   "metadata": {
    "collapsed": false
   },
   "outputs": [
    {
     "name": "stdout",
     "output_type": "stream",
     "text": [
      "Warning: Maximum number of iterations has been exceeded.\n",
      "         Current function value: 0.105039\n",
      "         Iterations: 35\n"
     ]
    },
    {
     "name": "stderr",
     "output_type": "stream",
     "text": [
      "//anaconda/lib/python2.7/site-packages/statsmodels/base/model.py:466: ConvergenceWarning: Maximum Likelihood optimization failed to converge. Check mle_retvals\n",
      "  \"Check mle_retvals\", ConvergenceWarning)\n"
     ]
    }
   ],
   "source": [
    "#Fit the model and results\n",
    "#Note that I did not get an Nan back, so no need to switch to a model like bfgs.\n",
    "results3 = MNlogit3.fit()"
   ]
  },
  {
   "cell_type": "code",
   "execution_count": 59,
   "metadata": {
    "collapsed": false
   },
   "outputs": [
    {
     "data": {
      "text/html": [
       "<table class=\"simpletable\">\n",
       "<caption>MNLogit Regression Results</caption>\n",
       "<tr>\n",
       "  <th>Dep. Variable:</th>      <td>Species</td>     <th>  No. Observations:  </th>  <td>   150</td>  \n",
       "</tr>\n",
       "<tr>\n",
       "  <th>Model:</th>              <td>MNLogit</td>     <th>  Df Residuals:      </th>  <td>   144</td>  \n",
       "</tr>\n",
       "<tr>\n",
       "  <th>Method:</th>               <td>MLE</td>       <th>  Df Model:          </th>  <td>     4</td>  \n",
       "</tr>\n",
       "<tr>\n",
       "  <th>Date:</th>          <td>Tue, 03 May 2016</td> <th>  Pseudo R-squ.:     </th>  <td>0.9044</td>  \n",
       "</tr>\n",
       "<tr>\n",
       "  <th>Time:</th>              <td>23:04:28</td>     <th>  Log-Likelihood:    </th> <td> -15.756</td> \n",
       "</tr>\n",
       "<tr>\n",
       "  <th>converged:</th>           <td>False</td>      <th>  LL-Null:           </th> <td> -164.79</td> \n",
       "</tr>\n",
       "<tr>\n",
       "  <th> </th>                      <td> </td>        <th>  LLR p-value:       </th> <td>2.823e-63</td>\n",
       "</tr>\n",
       "</table>\n",
       "<table class=\"simpletable\">\n",
       "<tr>\n",
       "  <th>Species=versicolor</th>    <th>coef</th>     <th>std err</th>      <th>z</th>      <th>P>|z|</th> <th>[95.0% Conf. Int.]</th> \n",
       "</tr>\n",
       "<tr>\n",
       "  <th>Sepal.Width</th>        <td>  -24.2311</td> <td>    9e+06</td> <td>-2.69e-06</td> <td> 1.000</td> <td>-1.76e+07  1.76e+07</td>\n",
       "</tr>\n",
       "<tr>\n",
       "  <th>Petal.Length</th>       <td>   37.1804</td> <td>  2.9e+06</td> <td> 1.28e-05</td> <td> 1.000</td> <td>-5.69e+06  5.69e+06</td>\n",
       "</tr>\n",
       "<tr>\n",
       "  <th>const</th>              <td>  -20.3505</td> <td> 2.27e+07</td> <td>-8.98e-07</td> <td> 1.000</td> <td>-4.44e+07  4.44e+07</td>\n",
       "</tr>\n",
       "<tr>\n",
       "  <th>Species=virginica</th>    <th>coef</th>     <th>std err</th>      <th>z</th>      <th>P>|z|</th> <th>[95.0% Conf. Int.]</th> \n",
       "</tr>\n",
       "<tr>\n",
       "  <th>Sepal.Width</th>       <td>  -26.7403</td> <td>    9e+06</td> <td>-2.97e-06</td> <td> 1.000</td> <td>-1.76e+07  1.76e+07</td>\n",
       "</tr>\n",
       "<tr>\n",
       "  <th>Petal.Length</th>      <td>   46.2787</td> <td>  2.9e+06</td> <td> 1.59e-05</td> <td> 1.000</td> <td>-5.69e+06  5.69e+06</td>\n",
       "</tr>\n",
       "<tr>\n",
       "  <th>const</th>             <td>  -57.4087</td> <td> 2.27e+07</td> <td>-2.53e-06</td> <td> 1.000</td> <td>-4.44e+07  4.44e+07</td>\n",
       "</tr>\n",
       "</table>"
      ],
      "text/plain": [
       "<class 'statsmodels.iolib.summary.Summary'>\n",
       "\"\"\"\n",
       "                          MNLogit Regression Results                          \n",
       "==============================================================================\n",
       "Dep. Variable:                Species   No. Observations:                  150\n",
       "Model:                        MNLogit   Df Residuals:                      144\n",
       "Method:                           MLE   Df Model:                            4\n",
       "Date:                Tue, 03 May 2016   Pseudo R-squ.:                  0.9044\n",
       "Time:                        23:04:28   Log-Likelihood:                -15.756\n",
       "converged:                      False   LL-Null:                       -164.79\n",
       "                                        LLR p-value:                 2.823e-63\n",
       "=====================================================================================\n",
       "Species=versicolor       coef    std err          z      P>|z|      [95.0% Conf. Int.]\n",
       "--------------------------------------------------------------------------------------\n",
       "Sepal.Width          -24.2311      9e+06  -2.69e-06      1.000     -1.76e+07  1.76e+07\n",
       "Petal.Length          37.1804    2.9e+06   1.28e-05      1.000     -5.69e+06  5.69e+06\n",
       "const                -20.3505   2.27e+07  -8.98e-07      1.000     -4.44e+07  4.44e+07\n",
       "--------------------------------------------------------------------------------------\n",
       "Species=virginica       coef    std err          z      P>|z|      [95.0% Conf. Int.]\n",
       "-------------------------------------------------------------------------------------\n",
       "Sepal.Width         -26.7403      9e+06  -2.97e-06      1.000     -1.76e+07  1.76e+07\n",
       "Petal.Length         46.2787    2.9e+06   1.59e-05      1.000     -5.69e+06  5.69e+06\n",
       "const               -57.4087   2.27e+07  -2.53e-06      1.000     -4.44e+07  4.44e+07\n",
       "=====================================================================================\n",
       "\"\"\""
      ]
     },
     "execution_count": 59,
     "metadata": {},
     "output_type": "execute_result"
    }
   ],
   "source": [
    "results3.summary()\n",
    "#Not good..."
   ]
  },
  {
   "cell_type": "code",
   "execution_count": 60,
   "metadata": {
    "collapsed": false
   },
   "outputs": [
    {
     "name": "stdout",
     "output_type": "stream",
     "text": [
      "Optimization terminated successfully.\n",
      "         Current function value: 0.841790\n",
      "         Iterations 7\n"
     ]
    }
   ],
   "source": [
    "#One more go on tuning. Just Sepal Width.\n",
    "X_3 = iris.data.ix[:, 1:2]\n",
    "\n",
    "#Add intercept\n",
    "\n",
    "X_3 = st.add_constant(X_3, prepend = False)\n",
    "\n",
    "#Declare model\n",
    "\n",
    "MNlogit4 = st.MNLogit(y, X_3)\n",
    "\n",
    "#results\n",
    "results4 = MNlogit4.fit()\n",
    "#Note, done without a warning on iterations!"
   ]
  },
  {
   "cell_type": "code",
   "execution_count": 61,
   "metadata": {
    "collapsed": false
   },
   "outputs": [
    {
     "data": {
      "text/html": [
       "<table class=\"simpletable\">\n",
       "<caption>MNLogit Regression Results</caption>\n",
       "<tr>\n",
       "  <th>Dep. Variable:</th>      <td>Species</td>     <th>  No. Observations:  </th>  <td>   150</td>  \n",
       "</tr>\n",
       "<tr>\n",
       "  <th>Model:</th>              <td>MNLogit</td>     <th>  Df Residuals:      </th>  <td>   146</td>  \n",
       "</tr>\n",
       "<tr>\n",
       "  <th>Method:</th>               <td>MLE</td>       <th>  Df Model:          </th>  <td>     2</td>  \n",
       "</tr>\n",
       "<tr>\n",
       "  <th>Date:</th>          <td>Tue, 03 May 2016</td> <th>  Pseudo R-squ.:     </th>  <td>0.2338</td>  \n",
       "</tr>\n",
       "<tr>\n",
       "  <th>Time:</th>              <td>23:07:05</td>     <th>  Log-Likelihood:    </th> <td> -126.27</td> \n",
       "</tr>\n",
       "<tr>\n",
       "  <th>converged:</th>           <td>True</td>       <th>  LL-Null:           </th> <td> -164.79</td> \n",
       "</tr>\n",
       "<tr>\n",
       "  <th> </th>                      <td> </td>        <th>  LLR p-value:       </th> <td>1.860e-17</td>\n",
       "</tr>\n",
       "</table>\n",
       "<table class=\"simpletable\">\n",
       "<tr>\n",
       "  <th>Species=versicolor</th>    <th>coef</th>     <th>std err</th>      <th>z</th>      <th>P>|z|</th> <th>[95.0% Conf. Int.]</th> \n",
       "</tr>\n",
       "<tr>\n",
       "  <th>Sepal.Width</th>        <td>   -6.1190</td> <td>    0.991</td> <td>   -6.173</td> <td> 0.000</td> <td>   -8.062    -4.176</td>\n",
       "</tr>\n",
       "<tr>\n",
       "  <th>const</th>              <td>   18.8584</td> <td>    3.064</td> <td>    6.154</td> <td> 0.000</td> <td>   12.853    24.864</td>\n",
       "</tr>\n",
       "<tr>\n",
       "  <th>Species=virginica</th>    <th>coef</th>     <th>std err</th>      <th>z</th>      <th>P>|z|</th> <th>[95.0% Conf. Int.]</th> \n",
       "</tr>\n",
       "<tr>\n",
       "  <th>Sepal.Width</th>       <td>   -4.0791</td> <td>    0.844</td> <td>   -4.836</td> <td> 0.000</td> <td>   -5.732    -2.426</td>\n",
       "</tr>\n",
       "<tr>\n",
       "  <th>const</th>             <td>   12.9973</td> <td>    2.688</td> <td>    4.835</td> <td> 0.000</td> <td>    7.728    18.266</td>\n",
       "</tr>\n",
       "</table>"
      ],
      "text/plain": [
       "<class 'statsmodels.iolib.summary.Summary'>\n",
       "\"\"\"\n",
       "                          MNLogit Regression Results                          \n",
       "==============================================================================\n",
       "Dep. Variable:                Species   No. Observations:                  150\n",
       "Model:                        MNLogit   Df Residuals:                      146\n",
       "Method:                           MLE   Df Model:                            2\n",
       "Date:                Tue, 03 May 2016   Pseudo R-squ.:                  0.2338\n",
       "Time:                        23:07:05   Log-Likelihood:                -126.27\n",
       "converged:                       True   LL-Null:                       -164.79\n",
       "                                        LLR p-value:                 1.860e-17\n",
       "=====================================================================================\n",
       "Species=versicolor       coef    std err          z      P>|z|      [95.0% Conf. Int.]\n",
       "--------------------------------------------------------------------------------------\n",
       "Sepal.Width           -6.1190      0.991     -6.173      0.000        -8.062    -4.176\n",
       "const                 18.8584      3.064      6.154      0.000        12.853    24.864\n",
       "--------------------------------------------------------------------------------------\n",
       "Species=virginica       coef    std err          z      P>|z|      [95.0% Conf. Int.]\n",
       "-------------------------------------------------------------------------------------\n",
       "Sepal.Width          -4.0791      0.844     -4.836      0.000        -5.732    -2.426\n",
       "const                12.9973      2.688      4.835      0.000         7.728    18.266\n",
       "=====================================================================================\n",
       "\"\"\""
      ]
     },
     "execution_count": 61,
     "metadata": {},
     "output_type": "execute_result"
    }
   ],
   "source": [
    "results4.summary()"
   ]
  },
  {
   "cell_type": "code",
   "execution_count": 68,
   "metadata": {
    "collapsed": false
   },
   "outputs": [
    {
     "name": "stdout",
     "output_type": "stream",
     "text": [
      "The odds ratio for versicolor for a unit change in Sepal Width is: 0.00220074015845\n",
      "The odds ratio for virginica for a unit change in Sepal Width is: 0.0169227214054\n"
     ]
    }
   ],
   "source": [
    "#Exponentiating the parameters\n",
    "#Versicolor\n",
    "print \"The odds ratio for versicolor for a unit change in Sepal Width is:\", np.exp(results4.params[0][0])\n",
    "#Virginica\n",
    "print \"The odds ratio for virginica for a unit change in Sepal Width is:\", np.exp(results4.params[1][0])"
   ]
  },
  {
   "cell_type": "markdown",
   "metadata": {},
   "source": [
    "### Tuning Discussion continued.\n",
    "\n",
    "With only one column now, the p-value for it is low enough that I would reject the null that the coefficient is zero.\n",
    "\n",
    "So what does the coefficient mean? It is not exponentiated into its odds ratio. However, above are the values exponentiated into odds ratios. Essentially, the odds increase by 1.6% as sepal width increases by one unit of it being a versicolor iris.\n",
    "\n",
    "Before I move on, I would like to see what regressing on single variables other than sepal width does, and which has the \"better\" fit."
   ]
  },
  {
   "cell_type": "code",
   "execution_count": 80,
   "metadata": {
    "collapsed": false
   },
   "outputs": [
    {
     "name": "stdout",
     "output_type": "stream",
     "text": [
      "Optimization terminated successfully.\n",
      "         Current function value: 0.606893\n",
      "         Iterations 8\n"
     ]
    }
   ],
   "source": [
    "#Sepal Length\n",
    "X_length = iris.data.ix[:, 0:1]\n",
    "\n",
    "#Add constant\n",
    "X_length = st.add_constant(X_length, prepend = False)\n",
    "\n",
    "#Model\n",
    "MNLogit_length = st.MNLogit(y, X_length)\n",
    "\n",
    "#Results\n",
    "results_length = MNLogit_length.fit()"
   ]
  },
  {
   "cell_type": "code",
   "execution_count": 85,
   "metadata": {
    "collapsed": false
   },
   "outputs": [
    {
     "data": {
      "text/html": [
       "<table class=\"simpletable\">\n",
       "<caption>MNLogit Regression Results</caption>\n",
       "<tr>\n",
       "  <th>Dep. Variable:</th>      <td>Species</td>     <th>  No. Observations:  </th>  <td>   150</td>  \n",
       "</tr>\n",
       "<tr>\n",
       "  <th>Model:</th>              <td>MNLogit</td>     <th>  Df Residuals:      </th>  <td>   146</td>  \n",
       "</tr>\n",
       "<tr>\n",
       "  <th>Method:</th>               <td>MLE</td>       <th>  Df Model:          </th>  <td>     2</td>  \n",
       "</tr>\n",
       "<tr>\n",
       "  <th>Date:</th>          <td>Tue, 03 May 2016</td> <th>  Pseudo R-squ.:     </th>  <td>0.4476</td>  \n",
       "</tr>\n",
       "<tr>\n",
       "  <th>Time:</th>              <td>23:21:44</td>     <th>  Log-Likelihood:    </th> <td> -91.034</td> \n",
       "</tr>\n",
       "<tr>\n",
       "  <th>converged:</th>           <td>True</td>       <th>  LL-Null:           </th> <td> -164.79</td> \n",
       "</tr>\n",
       "<tr>\n",
       "  <th> </th>                      <td> </td>        <th>  LLR p-value:       </th> <td>9.276e-33</td>\n",
       "</tr>\n",
       "</table>\n",
       "<table class=\"simpletable\">\n",
       "<tr>\n",
       "  <th>Species=versicolor</th>    <th>coef</th>     <th>std err</th>      <th>z</th>      <th>P>|z|</th> <th>[95.0% Conf. Int.]</th> \n",
       "</tr>\n",
       "<tr>\n",
       "  <th>Sepal.Length</th>       <td>    4.8157</td> <td>    0.907</td> <td>    5.310</td> <td> 0.000</td> <td>    3.038     6.593</td>\n",
       "</tr>\n",
       "<tr>\n",
       "  <th>const</th>              <td>  -26.0819</td> <td>    4.889</td> <td>   -5.335</td> <td> 0.000</td> <td>  -35.665   -16.499</td>\n",
       "</tr>\n",
       "<tr>\n",
       "  <th>Species=virginica</th>    <th>coef</th>     <th>std err</th>      <th>z</th>      <th>P>|z|</th> <th>[95.0% Conf. Int.]</th> \n",
       "</tr>\n",
       "<tr>\n",
       "  <th>Sepal.Length</th>      <td>    6.8464</td> <td>    1.022</td> <td>    6.698</td> <td> 0.000</td> <td>    4.843     8.850</td>\n",
       "</tr>\n",
       "<tr>\n",
       "  <th>const</th>             <td>  -38.7590</td> <td>    5.691</td> <td>   -6.811</td> <td> 0.000</td> <td>  -49.913   -27.605</td>\n",
       "</tr>\n",
       "</table>"
      ],
      "text/plain": [
       "<class 'statsmodels.iolib.summary.Summary'>\n",
       "\"\"\"\n",
       "                          MNLogit Regression Results                          \n",
       "==============================================================================\n",
       "Dep. Variable:                Species   No. Observations:                  150\n",
       "Model:                        MNLogit   Df Residuals:                      146\n",
       "Method:                           MLE   Df Model:                            2\n",
       "Date:                Tue, 03 May 2016   Pseudo R-squ.:                  0.4476\n",
       "Time:                        23:21:44   Log-Likelihood:                -91.034\n",
       "converged:                       True   LL-Null:                       -164.79\n",
       "                                        LLR p-value:                 9.276e-33\n",
       "=====================================================================================\n",
       "Species=versicolor       coef    std err          z      P>|z|      [95.0% Conf. Int.]\n",
       "--------------------------------------------------------------------------------------\n",
       "Sepal.Length           4.8157      0.907      5.310      0.000         3.038     6.593\n",
       "const                -26.0819      4.889     -5.335      0.000       -35.665   -16.499\n",
       "--------------------------------------------------------------------------------------\n",
       "Species=virginica       coef    std err          z      P>|z|      [95.0% Conf. Int.]\n",
       "-------------------------------------------------------------------------------------\n",
       "Sepal.Length          6.8464      1.022      6.698      0.000         4.843     8.850\n",
       "const               -38.7590      5.691     -6.811      0.000       -49.913   -27.605\n",
       "=====================================================================================\n",
       "\"\"\""
      ]
     },
     "execution_count": 85,
     "metadata": {},
     "output_type": "execute_result"
    }
   ],
   "source": [
    "#Summary of regressing on Sepal Length\n",
    "results_length.summary()\n",
    "#Note the pseudo R squared of .4476"
   ]
  },
  {
   "cell_type": "code",
   "execution_count": 93,
   "metadata": {
    "collapsed": false
   },
   "outputs": [
    {
     "name": "stdout",
     "output_type": "stream",
     "text": [
      "Warning: Maximum number of iterations has been exceeded.\n",
      "         Current function value: 0.111403\n",
      "         Iterations: 35\n"
     ]
    },
    {
     "name": "stderr",
     "output_type": "stream",
     "text": [
      "//anaconda/lib/python2.7/site-packages/statsmodels/base/model.py:466: ConvergenceWarning: Maximum Likelihood optimization failed to converge. Check mle_retvals\n",
      "  \"Check mle_retvals\", ConvergenceWarning)\n"
     ]
    },
    {
     "data": {
      "text/html": [
       "<table class=\"simpletable\">\n",
       "<caption>MNLogit Regression Results</caption>\n",
       "<tr>\n",
       "  <th>Dep. Variable:</th>      <td>Species</td>     <th>  No. Observations:  </th>  <td>   150</td>  \n",
       "</tr>\n",
       "<tr>\n",
       "  <th>Model:</th>              <td>MNLogit</td>     <th>  Df Residuals:      </th>  <td>   146</td>  \n",
       "</tr>\n",
       "<tr>\n",
       "  <th>Method:</th>               <td>MLE</td>       <th>  Df Model:          </th>  <td>     2</td>  \n",
       "</tr>\n",
       "<tr>\n",
       "  <th>Date:</th>          <td>Tue, 03 May 2016</td> <th>  Pseudo R-squ.:     </th>  <td>0.8986</td>  \n",
       "</tr>\n",
       "<tr>\n",
       "  <th>Time:</th>              <td>23:25:43</td>     <th>  Log-Likelihood:    </th> <td> -16.710</td> \n",
       "</tr>\n",
       "<tr>\n",
       "  <th>converged:</th>           <td>False</td>      <th>  LL-Null:           </th> <td> -164.79</td> \n",
       "</tr>\n",
       "<tr>\n",
       "  <th> </th>                      <td> </td>        <th>  LLR p-value:       </th> <td>4.887e-65</td>\n",
       "</tr>\n",
       "</table>\n",
       "<table class=\"simpletable\">\n",
       "<tr>\n",
       "  <th>Species=versicolor</th>    <th>coef</th>     <th>std err</th>      <th>z</th>      <th>P>|z|</th> <th>[95.0% Conf. Int.]</th> \n",
       "</tr>\n",
       "<tr>\n",
       "  <th>Petal.Width</th>        <td>  101.2540</td> <td> 2.12e+05</td> <td>    0.000</td> <td> 1.000</td> <td>-4.14e+05  4.15e+05</td>\n",
       "</tr>\n",
       "<tr>\n",
       "  <th>const</th>              <td>  -83.4444</td> <td> 2.11e+05</td> <td>   -0.000</td> <td> 1.000</td> <td>-4.14e+05  4.14e+05</td>\n",
       "</tr>\n",
       "<tr>\n",
       "  <th>Species=virginica</th>    <th>coef</th>     <th>std err</th>      <th>z</th>      <th>P>|z|</th> <th>[95.0% Conf. Int.]</th> \n",
       "</tr>\n",
       "<tr>\n",
       "  <th>Petal.Width</th>       <td>  114.2015</td> <td> 2.12e+05</td> <td>    0.001</td> <td> 1.000</td> <td>-4.14e+05  4.15e+05</td>\n",
       "</tr>\n",
       "<tr>\n",
       "  <th>const</th>             <td> -104.5700</td> <td> 2.11e+05</td> <td>   -0.000</td> <td> 1.000</td> <td>-4.15e+05  4.14e+05</td>\n",
       "</tr>\n",
       "</table>"
      ],
      "text/plain": [
       "<class 'statsmodels.iolib.summary.Summary'>\n",
       "\"\"\"\n",
       "                          MNLogit Regression Results                          \n",
       "==============================================================================\n",
       "Dep. Variable:                Species   No. Observations:                  150\n",
       "Model:                        MNLogit   Df Residuals:                      146\n",
       "Method:                           MLE   Df Model:                            2\n",
       "Date:                Tue, 03 May 2016   Pseudo R-squ.:                  0.8986\n",
       "Time:                        23:25:43   Log-Likelihood:                -16.710\n",
       "converged:                      False   LL-Null:                       -164.79\n",
       "                                        LLR p-value:                 4.887e-65\n",
       "=====================================================================================\n",
       "Species=versicolor       coef    std err          z      P>|z|      [95.0% Conf. Int.]\n",
       "--------------------------------------------------------------------------------------\n",
       "Petal.Width          101.2540   2.12e+05      0.000      1.000     -4.14e+05  4.15e+05\n",
       "const                -83.4444   2.11e+05     -0.000      1.000     -4.14e+05  4.14e+05\n",
       "--------------------------------------------------------------------------------------\n",
       "Species=virginica       coef    std err          z      P>|z|      [95.0% Conf. Int.]\n",
       "-------------------------------------------------------------------------------------\n",
       "Petal.Width         114.2015   2.12e+05      0.001      1.000     -4.14e+05  4.15e+05\n",
       "const              -104.5700   2.11e+05     -0.000      1.000     -4.15e+05  4.14e+05\n",
       "=====================================================================================\n",
       "\"\"\""
      ]
     },
     "execution_count": 93,
     "metadata": {},
     "output_type": "execute_result"
    }
   ],
   "source": [
    "#Petal Width\n",
    "X_petal_width = iris.data.ix[:, 3]\n",
    "\n",
    "#Add constant\n",
    "X_petal_width = st.add_constant(X_petal_width, prepend = False)\n",
    "\n",
    "#Model\n",
    "MNLogit_petal_width = st.MNLogit(y, X_petal_width)\n",
    "\n",
    "#Results\n",
    "results_petal_width = MNLogit_petal_width.fit()\n",
    "results_petal_width.summary()\n",
    "#High R-squared, but high p-value for variable."
   ]
  },
  {
   "cell_type": "code",
   "execution_count": 92,
   "metadata": {
    "collapsed": false
   },
   "outputs": [
    {
     "name": "stdout",
     "output_type": "stream",
     "text": [
      "Warning: Maximum number of iterations has been exceeded.\n",
      "         Current function value: 0.111440\n",
      "         Iterations: 35\n"
     ]
    },
    {
     "name": "stderr",
     "output_type": "stream",
     "text": [
      "//anaconda/lib/python2.7/site-packages/statsmodels/base/model.py:466: ConvergenceWarning: Maximum Likelihood optimization failed to converge. Check mle_retvals\n",
      "  \"Check mle_retvals\", ConvergenceWarning)\n"
     ]
    },
    {
     "data": {
      "text/html": [
       "<table class=\"simpletable\">\n",
       "<caption>MNLogit Regression Results</caption>\n",
       "<tr>\n",
       "  <th>Dep. Variable:</th>      <td>Species</td>     <th>  No. Observations:  </th>  <td>   150</td>  \n",
       "</tr>\n",
       "<tr>\n",
       "  <th>Model:</th>              <td>MNLogit</td>     <th>  Df Residuals:      </th>  <td>   146</td>  \n",
       "</tr>\n",
       "<tr>\n",
       "  <th>Method:</th>               <td>MLE</td>       <th>  Df Model:          </th>  <td>     2</td>  \n",
       "</tr>\n",
       "<tr>\n",
       "  <th>Date:</th>          <td>Tue, 03 May 2016</td> <th>  Pseudo R-squ.:     </th>  <td>0.8986</td>  \n",
       "</tr>\n",
       "<tr>\n",
       "  <th>Time:</th>              <td>23:24:50</td>     <th>  Log-Likelihood:    </th> <td> -16.716</td> \n",
       "</tr>\n",
       "<tr>\n",
       "  <th>converged:</th>           <td>False</td>      <th>  LL-Null:           </th> <td> -164.79</td> \n",
       "</tr>\n",
       "<tr>\n",
       "  <th> </th>                      <td> </td>        <th>  LLR p-value:       </th> <td>4.914e-65</td>\n",
       "</tr>\n",
       "</table>\n",
       "<table class=\"simpletable\">\n",
       "<tr>\n",
       "  <th>Species=versicolor</th>    <th>coef</th>     <th>std err</th>      <th>z</th>      <th>P>|z|</th> <th>[95.0% Conf. Int.]</th> \n",
       "</tr>\n",
       "<tr>\n",
       "  <th>Petal.Length</th>       <td>   34.3958</td> <td> 1.39e+04</td> <td>    0.002</td> <td> 0.998</td> <td>-2.73e+04  2.74e+04</td>\n",
       "</tr>\n",
       "<tr>\n",
       "  <th>const</th>              <td>  -84.4463</td> <td> 3.37e+04</td> <td>   -0.003</td> <td> 0.998</td> <td>-6.62e+04   6.6e+04</td>\n",
       "</tr>\n",
       "<tr>\n",
       "  <th>Species=virginica</th>    <th>coef</th>     <th>std err</th>      <th>z</th>      <th>P>|z|</th> <th>[95.0% Conf. Int.]</th> \n",
       "</tr>\n",
       "<tr>\n",
       "  <th>Petal.Length</th>      <td>   43.3978</td> <td> 1.39e+04</td> <td>    0.003</td> <td> 0.998</td> <td>-2.73e+04  2.74e+04</td>\n",
       "</tr>\n",
       "<tr>\n",
       "  <th>const</th>             <td> -128.2272</td> <td> 3.37e+04</td> <td>   -0.004</td> <td> 0.997</td> <td>-6.62e+04   6.6e+04</td>\n",
       "</tr>\n",
       "</table>"
      ],
      "text/plain": [
       "<class 'statsmodels.iolib.summary.Summary'>\n",
       "\"\"\"\n",
       "                          MNLogit Regression Results                          \n",
       "==============================================================================\n",
       "Dep. Variable:                Species   No. Observations:                  150\n",
       "Model:                        MNLogit   Df Residuals:                      146\n",
       "Method:                           MLE   Df Model:                            2\n",
       "Date:                Tue, 03 May 2016   Pseudo R-squ.:                  0.8986\n",
       "Time:                        23:24:50   Log-Likelihood:                -16.716\n",
       "converged:                      False   LL-Null:                       -164.79\n",
       "                                        LLR p-value:                 4.914e-65\n",
       "=====================================================================================\n",
       "Species=versicolor       coef    std err          z      P>|z|      [95.0% Conf. Int.]\n",
       "--------------------------------------------------------------------------------------\n",
       "Petal.Length          34.3958   1.39e+04      0.002      0.998     -2.73e+04  2.74e+04\n",
       "const                -84.4463   3.37e+04     -0.003      0.998     -6.62e+04   6.6e+04\n",
       "--------------------------------------------------------------------------------------\n",
       "Species=virginica       coef    std err          z      P>|z|      [95.0% Conf. Int.]\n",
       "-------------------------------------------------------------------------------------\n",
       "Petal.Length         43.3978   1.39e+04      0.003      0.998     -2.73e+04  2.74e+04\n",
       "const              -128.2272   3.37e+04     -0.004      0.997     -6.62e+04   6.6e+04\n",
       "=====================================================================================\n",
       "\"\"\""
      ]
     },
     "execution_count": 92,
     "metadata": {},
     "output_type": "execute_result"
    }
   ],
   "source": [
    "#Petal Length\n",
    "X_petal_length = iris.data.ix[:, 2]\n",
    "\n",
    "#Add constant\n",
    "X_petal_length = st.add_constant(X_petal_length, prepend = False)\n",
    "\n",
    "#Model\n",
    "MNLogit_petal_length = st.MNLogit(y, X_petal_length)\n",
    "\n",
    "#Results\n",
    "results_petal_length = MNLogit_petal_length.fit()\n",
    "results_petal_length.summary()\n",
    "#High R-squared, but high p-value for variable."
   ]
  },
  {
   "cell_type": "code",
   "execution_count": 95,
   "metadata": {
    "collapsed": false
   },
   "outputs": [
    {
     "name": "stdout",
     "output_type": "stream",
     "text": [
      "Warning: Maximum number of iterations has been exceeded.\n",
      "         Current function value: 0.413469\n",
      "         Iterations: 35\n",
      "         Function evaluations: 38\n",
      "         Gradient evaluations: 38\n"
     ]
    },
    {
     "name": "stderr",
     "output_type": "stream",
     "text": [
      "//anaconda/lib/python2.7/site-packages/statsmodels/base/model.py:466: ConvergenceWarning: Maximum Likelihood optimization failed to converge. Check mle_retvals\n",
      "  \"Check mle_retvals\", ConvergenceWarning)\n"
     ]
    },
    {
     "data": {
      "text/html": [
       "<table class=\"simpletable\">\n",
       "<caption>MNLogit Regression Results</caption>\n",
       "<tr>\n",
       "  <th>Dep. Variable:</th>      <td>Species</td>     <th>  No. Observations:  </th>  <td>   150</td>  \n",
       "</tr>\n",
       "<tr>\n",
       "  <th>Model:</th>              <td>MNLogit</td>     <th>  Df Residuals:      </th>  <td>   144</td>  \n",
       "</tr>\n",
       "<tr>\n",
       "  <th>Method:</th>               <td>MLE</td>       <th>  Df Model:          </th>  <td>     4</td>  \n",
       "</tr>\n",
       "<tr>\n",
       "  <th>Date:</th>          <td>Tue, 03 May 2016</td> <th>  Pseudo R-squ.:     </th>  <td>0.6236</td>  \n",
       "</tr>\n",
       "<tr>\n",
       "  <th>Time:</th>              <td>23:27:12</td>     <th>  Log-Likelihood:    </th> <td> -62.020</td> \n",
       "</tr>\n",
       "<tr>\n",
       "  <th>converged:</th>           <td>False</td>      <th>  LL-Null:           </th> <td> -164.79</td> \n",
       "</tr>\n",
       "<tr>\n",
       "  <th> </th>                      <td> </td>        <th>  LLR p-value:       </th> <td>2.415e-43</td>\n",
       "</tr>\n",
       "</table>\n",
       "<table class=\"simpletable\">\n",
       "<tr>\n",
       "  <th>Species=versicolor</th>    <th>coef</th>     <th>std err</th>      <th>z</th>      <th>P>|z|</th> <th>[95.0% Conf. Int.]</th> \n",
       "</tr>\n",
       "<tr>\n",
       "  <th>Sepal.Length</th>       <td>   10.0280</td> <td>    4.619</td> <td>    2.171</td> <td> 0.030</td> <td>    0.975    19.081</td>\n",
       "</tr>\n",
       "<tr>\n",
       "  <th>Sepal.Width</th>        <td>  -18.3559</td> <td>    9.396</td> <td>   -1.954</td> <td> 0.051</td> <td>  -36.772     0.060</td>\n",
       "</tr>\n",
       "<tr>\n",
       "  <th>const</th>              <td>    2.1349</td> <td>   16.989</td> <td>    0.126</td> <td> 0.900</td> <td>  -31.162    35.432</td>\n",
       "</tr>\n",
       "<tr>\n",
       "  <th>Species=virginica</th>    <th>coef</th>     <th>std err</th>      <th>z</th>      <th>P>|z|</th> <th>[95.0% Conf. Int.]</th> \n",
       "</tr>\n",
       "<tr>\n",
       "  <th>Sepal.Length</th>      <td>   11.3676</td> <td>    4.639</td> <td>    2.451</td> <td> 0.014</td> <td>    2.276    20.460</td>\n",
       "</tr>\n",
       "<tr>\n",
       "  <th>Sepal.Width</th>       <td>  -17.7987</td> <td>    9.407</td> <td>   -1.892</td> <td> 0.058</td> <td>  -36.237     0.639</td>\n",
       "</tr>\n",
       "<tr>\n",
       "  <th>const</th>             <td>   -7.8037</td> <td>   17.086</td> <td>   -0.457</td> <td> 0.648</td> <td>  -41.292    25.685</td>\n",
       "</tr>\n",
       "</table>"
      ],
      "text/plain": [
       "<class 'statsmodels.iolib.summary.Summary'>\n",
       "\"\"\"\n",
       "                          MNLogit Regression Results                          \n",
       "==============================================================================\n",
       "Dep. Variable:                Species   No. Observations:                  150\n",
       "Model:                        MNLogit   Df Residuals:                      144\n",
       "Method:                           MLE   Df Model:                            4\n",
       "Date:                Tue, 03 May 2016   Pseudo R-squ.:                  0.6236\n",
       "Time:                        23:27:12   Log-Likelihood:                -62.020\n",
       "converged:                      False   LL-Null:                       -164.79\n",
       "                                        LLR p-value:                 2.415e-43\n",
       "=====================================================================================\n",
       "Species=versicolor       coef    std err          z      P>|z|      [95.0% Conf. Int.]\n",
       "--------------------------------------------------------------------------------------\n",
       "Sepal.Length          10.0280      4.619      2.171      0.030         0.975    19.081\n",
       "Sepal.Width          -18.3559      9.396     -1.954      0.051       -36.772     0.060\n",
       "const                  2.1349     16.989      0.126      0.900       -31.162    35.432\n",
       "--------------------------------------------------------------------------------------\n",
       "Species=virginica       coef    std err          z      P>|z|      [95.0% Conf. Int.]\n",
       "-------------------------------------------------------------------------------------\n",
       "Sepal.Length         11.3676      4.639      2.451      0.014         2.276    20.460\n",
       "Sepal.Width         -17.7987      9.407     -1.892      0.058       -36.237     0.639\n",
       "const                -7.8037     17.086     -0.457      0.648       -41.292    25.685\n",
       "=====================================================================================\n",
       "\"\"\""
      ]
     },
     "execution_count": 95,
     "metadata": {},
     "output_type": "execute_result"
    }
   ],
   "source": [
    "#What do sepal length and width do together?\n",
    "#Sepals\n",
    "X_sepals = iris.data.ix[:, 0:2]\n",
    "\n",
    "#Add constant\n",
    "X_sepals = st.add_constant(X_sepals, prepend = False)\n",
    "\n",
    "#Model\n",
    "MNLogit_sepals = st.MNLogit(y, X_sepals)\n",
    "\n",
    "#Results\n",
    "results_sepals = MNLogit_sepals.fit(method = 'bfgs')\n",
    "results_sepals.summary()\n",
    "#High R-squared, but constant irrelevant. Drop it?"
   ]
  },
  {
   "cell_type": "code",
   "execution_count": 96,
   "metadata": {
    "collapsed": false
   },
   "outputs": [
    {
     "name": "stdout",
     "output_type": "stream",
     "text": [
      "Optimization terminated successfully.\n",
      "         Current function value: 0.490662\n",
      "         Iterations 11\n"
     ]
    },
    {
     "data": {
      "text/html": [
       "<table class=\"simpletable\">\n",
       "<caption>MNLogit Regression Results</caption>\n",
       "<tr>\n",
       "  <th>Dep. Variable:</th>      <td>Species</td>     <th>  No. Observations:  </th>  <td>   150</td>  \n",
       "</tr>\n",
       "<tr>\n",
       "  <th>Model:</th>              <td>MNLogit</td>     <th>  Df Residuals:      </th>  <td>   146</td>  \n",
       "</tr>\n",
       "<tr>\n",
       "  <th>Method:</th>               <td>MLE</td>       <th>  Df Model:          </th>  <td>     2</td>  \n",
       "</tr>\n",
       "<tr>\n",
       "  <th>Date:</th>          <td>Tue, 03 May 2016</td> <th>  Pseudo R-squ.:     </th>  <td>0.5534</td>  \n",
       "</tr>\n",
       "<tr>\n",
       "  <th>Time:</th>              <td>23:28:21</td>     <th>  Log-Likelihood:    </th> <td> -73.599</td> \n",
       "</tr>\n",
       "<tr>\n",
       "  <th>converged:</th>           <td>True</td>       <th>  LL-Null:           </th> <td> -164.79</td> \n",
       "</tr>\n",
       "<tr>\n",
       "  <th> </th>                      <td> </td>        <th>  LLR p-value:       </th> <td>2.486e-40</td>\n",
       "</tr>\n",
       "</table>\n",
       "<table class=\"simpletable\">\n",
       "<tr>\n",
       "  <th>Species=versicolor</th>    <th>coef</th>     <th>std err</th>      <th>z</th>      <th>P>|z|</th> <th>[95.0% Conf. Int.]</th> \n",
       "</tr>\n",
       "<tr>\n",
       "  <th>Sepal.Length</th>       <td>    7.3240</td> <td>    2.261</td> <td>    3.240</td> <td> 0.001</td> <td>    2.893    11.755</td>\n",
       "</tr>\n",
       "<tr>\n",
       "  <th>Sepal.Width</th>        <td>  -12.9117</td> <td>    3.999</td> <td>   -3.229</td> <td> 0.001</td> <td>  -20.749    -5.074</td>\n",
       "</tr>\n",
       "<tr>\n",
       "  <th>Species=virginica</th>    <th>coef</th>     <th>std err</th>      <th>z</th>      <th>P>|z|</th> <th>[95.0% Conf. Int.]</th> \n",
       "</tr>\n",
       "<tr>\n",
       "  <th>Sepal.Length</th>      <td>    7.8319</td> <td>    2.274</td> <td>    3.444</td> <td> 0.001</td> <td>    3.375    12.288</td>\n",
       "</tr>\n",
       "<tr>\n",
       "  <th>Sepal.Width</th>       <td>  -13.9867</td> <td>    4.032</td> <td>   -3.469</td> <td> 0.001</td> <td>  -21.889    -6.085</td>\n",
       "</tr>\n",
       "</table>"
      ],
      "text/plain": [
       "<class 'statsmodels.iolib.summary.Summary'>\n",
       "\"\"\"\n",
       "                          MNLogit Regression Results                          \n",
       "==============================================================================\n",
       "Dep. Variable:                Species   No. Observations:                  150\n",
       "Model:                        MNLogit   Df Residuals:                      146\n",
       "Method:                           MLE   Df Model:                            2\n",
       "Date:                Tue, 03 May 2016   Pseudo R-squ.:                  0.5534\n",
       "Time:                        23:28:21   Log-Likelihood:                -73.599\n",
       "converged:                       True   LL-Null:                       -164.79\n",
       "                                        LLR p-value:                 2.486e-40\n",
       "=====================================================================================\n",
       "Species=versicolor       coef    std err          z      P>|z|      [95.0% Conf. Int.]\n",
       "--------------------------------------------------------------------------------------\n",
       "Sepal.Length           7.3240      2.261      3.240      0.001         2.893    11.755\n",
       "Sepal.Width          -12.9117      3.999     -3.229      0.001       -20.749    -5.074\n",
       "--------------------------------------------------------------------------------------\n",
       "Species=virginica       coef    std err          z      P>|z|      [95.0% Conf. Int.]\n",
       "-------------------------------------------------------------------------------------\n",
       "Sepal.Length          7.8319      2.274      3.444      0.001         3.375    12.288\n",
       "Sepal.Width         -13.9867      4.032     -3.469      0.001       -21.889    -6.085\n",
       "=====================================================================================\n",
       "\"\"\""
      ]
     },
     "execution_count": 96,
     "metadata": {},
     "output_type": "execute_result"
    }
   ],
   "source": [
    "#What do sepal length and width do together?\n",
    "#Sepals\n",
    "X_sepals2 = iris.data.ix[:, 0:2]\n",
    "\n",
    "\n",
    "\n",
    "#Model\n",
    "MNLogit_sepals2 = st.MNLogit(y, X_sepals2)\n",
    "\n",
    "#Results\n",
    "results_sepals2 = MNLogit_sepals2.fit()\n",
    "results_sepals2.summary()\n",
    "#High R-squared, but constant irrelevant. Drop it?"
   ]
  },
  {
   "cell_type": "markdown",
   "metadata": {},
   "source": [
    "## A Conclusion\n",
    "\n",
    "After looking at the model output and tuning it, it was clear that:\n",
    "\n",
    "1) Petal length and width did not add predictive power.\n",
    "\n",
    "2) Sepal Length or Sepal Width seem to have predictive power and be non-zero in impact.\n",
    "\n",
    "3) Sepal Length and Sepal Width together seem to have a better model fit than either Sepal Length or Width on their own. Interestingly, on their own, both need an intercept. However, together, the intercept is viewed as highly likely to be zero (can not reject null).\n",
    "\n",
    "The relevant pseudo R-Squareds are:\n",
    "\n",
    "1) Sepal Length and Sepal Width, no constant: 0.5534\n",
    "\n",
    "2) Sepal Length, with constant: 0.4476\n",
    "\n",
    "3) Sepal Width, with constant: 0.2338\n",
    "\n",
    "Finally, while the coefficients are interesting, they are all in log odds format. To convert to an odds ration, exponentiate the function. And then if you want the probablity, set the result equal to p/(1-p) where p is the probability.\n",
    "\n",
    "N.B. So Multinomial Logistic regression produces an output of k-1 models. For this model, k was 3 for 3 levels for our y, the type of iris. Hence, we see two models above."
   ]
  }
 ],
 "metadata": {
  "kernelspec": {
   "display_name": "Python 2",
   "language": "python",
   "name": "python2"
  },
  "language_info": {
   "codemirror_mode": {
    "name": "ipython",
    "version": 2
   },
   "file_extension": ".py",
   "mimetype": "text/x-python",
   "name": "python",
   "nbconvert_exporter": "python",
   "pygments_lexer": "ipython2",
   "version": "2.7.11"
  }
 },
 "nbformat": 4,
 "nbformat_minor": 0
}
