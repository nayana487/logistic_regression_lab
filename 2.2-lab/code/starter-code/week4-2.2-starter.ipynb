{
 "cells": [
  {
   "cell_type": "markdown",
   "metadata": {},
   "source": [
    "Inform Python we will use the StatsModels Library"
   ]
  },
  {
   "cell_type": "code",
   "execution_count": 23,
   "metadata": {
    "collapsed": true
   },
   "outputs": [],
   "source": [
    "import statsmodels.api as st\n",
    "import pandas as pd"
   ]
  },
  {
   "cell_type": "markdown",
   "metadata": {},
   "source": [
    "Use IRIS Dataset"
   ]
  },
  {
   "cell_type": "code",
   "execution_count": 24,
   "metadata": {
    "collapsed": false
   },
   "outputs": [],
   "source": [
    "# import the dataset, declare target and features\n",
    "iris = st.datasets.get_rdataset('iris','datasets')\n",
    "y = iris.data.Species \n",
    "X = iris.data.ix[:, 0:4]"
   ]
  },
  {
   "cell_type": "code",
   "execution_count": 25,
   "metadata": {
    "collapsed": false
   },
   "outputs": [
    {
     "name": "stdout",
     "output_type": "stream",
     "text": [
      "0    setosa\n",
      "1    setosa\n",
      "Name: Species, dtype: object\n",
      "   Sepal.Length  Sepal.Width  Petal.Length  Petal.Width\n",
      "0           5.1          3.5           1.4          0.2\n",
      "1           4.9          3.0           1.4          0.2\n"
     ]
    }
   ],
   "source": [
    "print y.head(2)\n",
    "print X.head(2)"
   ]
  },
  {
   "cell_type": "markdown",
   "metadata": {},
   "source": [
    "Setup the Logistic Regression "
   ]
  },
  {
   "cell_type": "code",
   "execution_count": 26,
   "metadata": {
    "collapsed": false
   },
   "outputs": [
    {
     "name": "stdout",
     "output_type": "stream",
     "text": [
      "   Sepal.Length  Sepal.Width  Petal.Length  Petal.Width  intercept\n",
      "0           5.1          3.5           1.4          0.2        1.0\n",
      "1           4.9          3.0           1.4          0.2        1.0\n"
     ]
    }
   ],
   "source": [
    "# add column of ones for our y-intercept (http://blog.yhat.com/posts/logistic-regression-and-python.html)\n",
    "X['intercept'] = 1.0\n",
    "print X.head(2)\n",
    "#declare our model (as per the solution which really doesn't work)\n",
    "model = st.MNLogit(y, X)"
   ]
  },
  {
   "cell_type": "markdown",
   "metadata": {},
   "source": [
    "Perform the Regression using the Fit Method"
   ]
  },
  {
   "cell_type": "code",
   "execution_count": 27,
   "metadata": {
    "collapsed": false
   },
   "outputs": [
    {
     "name": "stdout",
     "output_type": "stream",
     "text": [
      "Optimization terminated successfully.\n",
      "         Current function value: nan\n",
      "         Iterations 26\n"
     ]
    }
   ],
   "source": [
    "fit =model.fit()"
   ]
  },
  {
   "cell_type": "markdown",
   "metadata": {},
   "source": [
    "Print a summary of the results"
   ]
  },
  {
   "cell_type": "code",
   "execution_count": 28,
   "metadata": {
    "collapsed": false
   },
   "outputs": [
    {
     "data": {
      "text/html": [
       "<table class=\"simpletable\">\n",
       "<caption>MNLogit Regression Results</caption>\n",
       "<tr>\n",
       "  <th>Dep. Variable:</th>      <td>Species</td>     <th>  No. Observations:  </th>  <td>   150</td> \n",
       "</tr>\n",
       "<tr>\n",
       "  <th>Model:</th>              <td>MNLogit</td>     <th>  Df Residuals:      </th>  <td>   140</td> \n",
       "</tr>\n",
       "<tr>\n",
       "  <th>Method:</th>               <td>MLE</td>       <th>  Df Model:          </th>  <td>     8</td> \n",
       "</tr>\n",
       "<tr>\n",
       "  <th>Date:</th>          <td>Wed, 04 May 2016</td> <th>  Pseudo R-squ.:     </th>  <td>   nan</td> \n",
       "</tr>\n",
       "<tr>\n",
       "  <th>Time:</th>              <td>16:43:58</td>     <th>  Log-Likelihood:    </th> <td>     nan</td>\n",
       "</tr>\n",
       "<tr>\n",
       "  <th>converged:</th>           <td>True</td>       <th>  LL-Null:           </th> <td> -164.79</td>\n",
       "</tr>\n",
       "<tr>\n",
       "  <th> </th>                      <td> </td>        <th>  LLR p-value:       </th>  <td>   nan</td> \n",
       "</tr>\n",
       "</table>\n",
       "<table class=\"simpletable\">\n",
       "<tr>\n",
       "  <th>Species=versicolor</th>    <th>coef</th>     <th>std err</th>      <th>z</th>      <th>P>|z|</th> <th>[95.0% Conf. Int.]</th> \n",
       "</tr>\n",
       "<tr>\n",
       "  <th>Sepal.Length</th>       <td>       nan</td> <td>      nan</td> <td>      nan</td> <td>   nan</td> <td>      nan       nan</td>\n",
       "</tr>\n",
       "<tr>\n",
       "  <th>Sepal.Width</th>        <td>       nan</td> <td>      nan</td> <td>      nan</td> <td>   nan</td> <td>      nan       nan</td>\n",
       "</tr>\n",
       "<tr>\n",
       "  <th>Petal.Length</th>       <td>       nan</td> <td>      nan</td> <td>      nan</td> <td>   nan</td> <td>      nan       nan</td>\n",
       "</tr>\n",
       "<tr>\n",
       "  <th>Petal.Width</th>        <td>       nan</td> <td>      nan</td> <td>      nan</td> <td>   nan</td> <td>      nan       nan</td>\n",
       "</tr>\n",
       "<tr>\n",
       "  <th>intercept</th>          <td>       nan</td> <td>      nan</td> <td>      nan</td> <td>   nan</td> <td>      nan       nan</td>\n",
       "</tr>\n",
       "<tr>\n",
       "  <th>Species=virginica</th>    <th>coef</th>     <th>std err</th>      <th>z</th>      <th>P>|z|</th> <th>[95.0% Conf. Int.]</th> \n",
       "</tr>\n",
       "<tr>\n",
       "  <th>Sepal.Length</th>      <td>       nan</td> <td>      nan</td> <td>      nan</td> <td>   nan</td> <td>      nan       nan</td>\n",
       "</tr>\n",
       "<tr>\n",
       "  <th>Sepal.Width</th>       <td>       nan</td> <td>      nan</td> <td>      nan</td> <td>   nan</td> <td>      nan       nan</td>\n",
       "</tr>\n",
       "<tr>\n",
       "  <th>Petal.Length</th>      <td>       nan</td> <td>      nan</td> <td>      nan</td> <td>   nan</td> <td>      nan       nan</td>\n",
       "</tr>\n",
       "<tr>\n",
       "  <th>Petal.Width</th>       <td>       nan</td> <td>      nan</td> <td>      nan</td> <td>   nan</td> <td>      nan       nan</td>\n",
       "</tr>\n",
       "<tr>\n",
       "  <th>intercept</th>         <td>       nan</td> <td>      nan</td> <td>      nan</td> <td>   nan</td> <td>      nan       nan</td>\n",
       "</tr>\n",
       "</table>"
      ],
      "text/plain": [
       "<class 'statsmodels.iolib.summary.Summary'>\n",
       "\"\"\"\n",
       "                          MNLogit Regression Results                          \n",
       "==============================================================================\n",
       "Dep. Variable:                Species   No. Observations:                  150\n",
       "Model:                        MNLogit   Df Residuals:                      140\n",
       "Method:                           MLE   Df Model:                            8\n",
       "Date:                Wed, 04 May 2016   Pseudo R-squ.:                     nan\n",
       "Time:                        16:43:58   Log-Likelihood:                    nan\n",
       "converged:                       True   LL-Null:                       -164.79\n",
       "                                        LLR p-value:                       nan\n",
       "=====================================================================================\n",
       "Species=versicolor       coef    std err          z      P>|z|      [95.0% Conf. Int.]\n",
       "--------------------------------------------------------------------------------------\n",
       "Sepal.Length              nan        nan        nan        nan           nan       nan\n",
       "Sepal.Width               nan        nan        nan        nan           nan       nan\n",
       "Petal.Length              nan        nan        nan        nan           nan       nan\n",
       "Petal.Width               nan        nan        nan        nan           nan       nan\n",
       "intercept                 nan        nan        nan        nan           nan       nan\n",
       "--------------------------------------------------------------------------------------\n",
       "Species=virginica       coef    std err          z      P>|z|      [95.0% Conf. Int.]\n",
       "-------------------------------------------------------------------------------------\n",
       "Sepal.Length             nan        nan        nan        nan           nan       nan\n",
       "Sepal.Width              nan        nan        nan        nan           nan       nan\n",
       "Petal.Length             nan        nan        nan        nan           nan       nan\n",
       "Petal.Width              nan        nan        nan        nan           nan       nan\n",
       "intercept                nan        nan        nan        nan           nan       nan\n",
       "=====================================================================================\n",
       "\"\"\""
      ]
     },
     "execution_count": 28,
     "metadata": {},
     "output_type": "execute_result"
    }
   ],
   "source": [
    "fit.summary()\n",
    "#pretty sure this isn't the desired result even though it is what the solution says"
   ]
  },
  {
   "cell_type": "code",
   "execution_count": 29,
   "metadata": {
    "collapsed": false
   },
   "outputs": [
    {
     "name": "stdout",
     "output_type": "stream",
     "text": [
      "0    setosa\n",
      "1    setosa\n",
      "Name: Species, dtype: object\n",
      "   Sepal.Length  Sepal.Width  Petal.Length  Petal.Width  intercept\n",
      "0           5.1          3.5           1.4          0.2        1.0\n",
      "1           4.9          3.0           1.4          0.2        1.0\n"
     ]
    }
   ],
   "source": [
    "#y = iris.data.Species \n",
    "#X = iris.data.ix[:, 0:4]\n",
    "print y.head(2)\n",
    "print X.head(2)"
   ]
  },
  {
   "cell_type": "code",
   "execution_count": 30,
   "metadata": {
    "collapsed": false
   },
   "outputs": [
    {
     "name": "stdout",
     "output_type": "stream",
     "text": [
      "0    0\n",
      "1    0\n",
      "Name: Species, dtype: int64\n",
      "148    2\n",
      "149    2\n",
      "Name: Species, dtype: int64\n",
      "   Sepal.Length  Sepal.Width  Petal.Length  Petal.Width  intercept\n",
      "0           5.1          3.5           1.4          0.2        1.0\n",
      "1           4.9          3.0           1.4          0.2        1.0\n"
     ]
    }
   ],
   "source": [
    "#the way I attempted it after talking to Joseph\n",
    "#map the species info to numeric values\n",
    "y = iris.data.Species.map({'setosa':0, 'versicolor':1, 'virginica':2})\n",
    "print y.head(2)\n",
    "print y.tail(2)\n",
    "print X.head(2)"
   ]
  },
  {
   "cell_type": "code",
   "execution_count": 31,
   "metadata": {
    "collapsed": false
   },
   "outputs": [
    {
     "data": {
      "text/plain": [
       "<statsmodels.discrete.discrete_model.MNLogit at 0x10d206c50>"
      ]
     },
     "execution_count": 31,
     "metadata": {},
     "output_type": "execute_result"
    }
   ],
   "source": [
    "model = st.MNLogit(y,X)\n",
    "model\n"
   ]
  },
  {
   "cell_type": "code",
   "execution_count": 34,
   "metadata": {
    "collapsed": false
   },
   "outputs": [
    {
     "name": "stdout",
     "output_type": "stream",
     "text": [
      "Warning: Maximum number of iterations has been exceeded.\n",
      "         Current function value: 0.057112\n",
      "         Iterations: 35\n",
      "         Function evaluations: 37\n",
      "         Gradient evaluations: 37\n"
     ]
    },
    {
     "name": "stderr",
     "output_type": "stream",
     "text": [
      "/Applications/anaconda/envs/GA/lib/python2.7/site-packages/statsmodels/base/model.py:466: ConvergenceWarning: Maximum Likelihood optimization failed to converge. Check mle_retvals\n",
      "  \"Check mle_retvals\", ConvergenceWarning)\n"
     ]
    },
    {
     "data": {
      "text/plain": [
       "<statsmodels.discrete.discrete_model.MultinomialResultsWrapper at 0x10d138d10>"
      ]
     },
     "execution_count": 34,
     "metadata": {},
     "output_type": "execute_result"
    }
   ],
   "source": [
    "fit = model.fit(method = 'bfgs')\n",
    "fit"
   ]
  },
  {
   "cell_type": "code",
   "execution_count": 35,
   "metadata": {
    "collapsed": false
   },
   "outputs": [
    {
     "name": "stdout",
     "output_type": "stream",
     "text": [
      "                          MNLogit Regression Results                          \n",
      "==============================================================================\n",
      "Dep. Variable:                Species   No. Observations:                  150\n",
      "Model:                        MNLogit   Df Residuals:                      140\n",
      "Method:                           MLE   Df Model:                            8\n",
      "Date:                Wed, 04 May 2016   Pseudo R-squ.:                  0.9480\n",
      "Time:                        16:46:34   Log-Likelihood:                -8.5668\n",
      "converged:                      False   LL-Null:                       -164.79\n",
      "                                        LLR p-value:                 9.200e-63\n",
      "================================================================================\n",
      "   Species=1       coef    std err          z      P>|z|      [95.0% Conf. Int.]\n",
      "--------------------------------------------------------------------------------\n",
      "Sepal.Length    -1.4959    444.817     -0.003      0.997      -873.321   870.330\n",
      "Sepal.Width     -8.0560    282.766     -0.028      0.977      -562.267   546.155\n",
      "Petal.Length    11.9301    374.116      0.032      0.975      -721.323   745.184\n",
      "Petal.Width      1.7039    759.366      0.002      0.998     -1486.627  1490.035\n",
      "intercept        1.6444   1550.515      0.001      0.999     -3037.309  3040.597\n",
      "--------------------------------------------------------------------------------\n",
      "   Species=2       coef    std err          z      P>|z|      [95.0% Conf. Int.]\n",
      "--------------------------------------------------------------------------------\n",
      "Sepal.Length    -8.0348    444.835     -0.018      0.986      -879.896   863.827\n",
      "Sepal.Width    -15.8195    282.793     -0.056      0.955      -570.083   538.444\n",
      "Petal.Length    22.1797    374.155      0.059      0.953      -711.152   755.511\n",
      "Petal.Width     14.0603    759.384      0.019      0.985     -1474.304  1502.425\n",
      "intercept       -6.5053   1550.533     -0.004      0.997     -3045.493  3032.483\n",
      "================================================================================\n"
     ]
    }
   ],
   "source": [
    "print fit.summary()"
   ]
  },
  {
   "cell_type": "code",
   "execution_count": null,
   "metadata": {
    "collapsed": true
   },
   "outputs": [],
   "source": []
  },
  {
   "cell_type": "code",
   "execution_count": 13,
   "metadata": {
    "collapsed": false
   },
   "outputs": [
    {
     "data": {
      "text/html": [
       "<div>\n",
       "<table border=\"1\" class=\"dataframe\">\n",
       "  <thead>\n",
       "    <tr style=\"text-align: right;\">\n",
       "      <th></th>\n",
       "      <th>species_setosa</th>\n",
       "      <th>species_versicolor</th>\n",
       "      <th>species_virginica</th>\n",
       "    </tr>\n",
       "  </thead>\n",
       "  <tbody>\n",
       "    <tr>\n",
       "      <th>0</th>\n",
       "      <td>1.0</td>\n",
       "      <td>0.0</td>\n",
       "      <td>0.0</td>\n",
       "    </tr>\n",
       "    <tr>\n",
       "      <th>1</th>\n",
       "      <td>1.0</td>\n",
       "      <td>0.0</td>\n",
       "      <td>0.0</td>\n",
       "    </tr>\n",
       "  </tbody>\n",
       "</table>\n",
       "</div>"
      ],
      "text/plain": [
       "   species_setosa  species_versicolor  species_virginica\n",
       "0             1.0                 0.0                0.0\n",
       "1             1.0                 0.0                0.0"
      ]
     },
     "execution_count": 13,
     "metadata": {},
     "output_type": "execute_result"
    }
   ],
   "source": [
    "#the way I attempted it before talking to Joseph\n",
    "y = pd.get_dummies(y, prefix=\"species\")\n",
    "y.head(2)"
   ]
  },
  {
   "cell_type": "code",
   "execution_count": 20,
   "metadata": {
    "collapsed": false
   },
   "outputs": [
    {
     "name": "stdout",
     "output_type": "stream",
     "text": [
      "Warning: Maximum number of iterations has been exceeded.\n",
      "         Current function value: 0.000000\n",
      "         Iterations: 35\n",
      "                          MNLogit Regression Results                          \n",
      "==============================================================================\n",
      "Dep. Variable:         species_setosa   No. Observations:                  150\n",
      "Model:                        MNLogit   Df Residuals:                      145\n",
      "Method:                           MLE   Df Model:                            4\n",
      "Date:                Tue, 03 May 2016   Pseudo R-squ.:                   1.000\n",
      "Time:                        14:52:54   Log-Likelihood:            -6.9724e-09\n",
      "converged:                      False   LL-Null:                       -95.477\n",
      "                                        LLR p-value:                 3.305e-40\n",
      "====================================================================================\n",
      "species_setosa=1       coef    std err          z      P>|z|      [95.0% Conf. Int.]\n",
      "------------------------------------------------------------------------------------\n",
      "Sepal.Length         9.6294   1.21e+05   7.98e-05      1.000     -2.37e+05  2.37e+05\n",
      "Sepal.Width          8.4423   5.13e+04      0.000      1.000     -1.01e+05  1.01e+05\n",
      "Petal.Length       -20.5324    8.9e+04     -0.000      1.000     -1.75e+05  1.75e+05\n",
      "Petal.Width        -14.9497   1.39e+05     -0.000      1.000     -2.72e+05  2.72e+05\n",
      "intercept          -11.8568   4.64e+05  -2.55e-05      1.000      -9.1e+05   9.1e+05\n",
      "====================================================================================\n"
     ]
    },
    {
     "name": "stderr",
     "output_type": "stream",
     "text": [
      "/Applications/anaconda/envs/GA/lib/python2.7/site-packages/statsmodels/base/model.py:466: ConvergenceWarning: Maximum Likelihood optimization failed to converge. Check mle_retvals\n",
      "  \"Check mle_retvals\", ConvergenceWarning)\n"
     ]
    }
   ],
   "source": [
    "target = y['species_setosa']\n",
    "model = st.MNLogit(target,X)\n",
    "fit = model.fit()\n",
    "print fit.summary()"
   ]
  },
  {
   "cell_type": "code",
   "execution_count": 21,
   "metadata": {
    "collapsed": false
   },
   "outputs": [
    {
     "name": "stdout",
     "output_type": "stream",
     "text": [
      "Optimization terminated successfully.\n",
      "         Current function value: 0.483566\n",
      "         Iterations 6\n",
      "                          MNLogit Regression Results                          \n",
      "==============================================================================\n",
      "Dep. Variable:     species_versicolor   No. Observations:                  150\n",
      "Model:                        MNLogit   Df Residuals:                      145\n",
      "Method:                           MLE   Df Model:                            4\n",
      "Date:                Tue, 03 May 2016   Pseudo R-squ.:                  0.2403\n",
      "Time:                        14:53:15   Log-Likelihood:                -72.535\n",
      "converged:                       True   LL-Null:                       -95.477\n",
      "                                        LLR p-value:                 2.603e-09\n",
      "========================================================================================\n",
      "species_versicolor=1       coef    std err          z      P>|z|      [95.0% Conf. Int.]\n",
      "----------------------------------------------------------------------------------------\n",
      "Sepal.Length            -0.2454      0.650     -0.378      0.706        -1.518     1.028\n",
      "Sepal.Width             -2.7966      0.784     -3.569      0.000        -4.332    -1.261\n",
      "Petal.Length             1.3136      0.684      1.921      0.055        -0.027     2.654\n",
      "Petal.Width             -2.7783      1.173     -2.368      0.018        -5.078    -0.479\n",
      "intercept                7.3785      2.499      2.952      0.003         2.480    12.277\n",
      "========================================================================================\n"
     ]
    }
   ],
   "source": [
    "target = y['species_versicolor']\n",
    "model = st.MNLogit(target,X)\n",
    "fit = model.fit()\n",
    "print fit.summary()"
   ]
  },
  {
   "cell_type": "code",
   "execution_count": 22,
   "metadata": {
    "collapsed": false
   },
   "outputs": [
    {
     "name": "stdout",
     "output_type": "stream",
     "text": [
      "Optimization terminated successfully.\n",
      "         Current function value: 0.039662\n",
      "         Iterations 14\n",
      "                          MNLogit Regression Results                          \n",
      "==============================================================================\n",
      "Dep. Variable:      species_virginica   No. Observations:                  150\n",
      "Model:                        MNLogit   Df Residuals:                      145\n",
      "Method:                           MLE   Df Model:                            4\n",
      "Date:                Tue, 03 May 2016   Pseudo R-squ.:                  0.9377\n",
      "Time:                        14:53:44   Log-Likelihood:                -5.9493\n",
      "converged:                       True   LL-Null:                       -95.477\n",
      "                                        LLR p-value:                 1.189e-37\n",
      "=======================================================================================\n",
      "species_virginica=1       coef    std err          z      P>|z|      [95.0% Conf. Int.]\n",
      "---------------------------------------------------------------------------------------\n",
      "Sepal.Length           -2.4652      2.394     -1.030      0.303        -7.158     2.228\n",
      "Sepal.Width            -6.6809      4.480     -1.491      0.136       -15.461     2.099\n",
      "Petal.Length            9.4294      4.737      1.990      0.047         0.145    18.714\n",
      "Petal.Width            18.2861      9.743      1.877      0.061        -0.809    37.381\n",
      "intercept             -42.6378     25.708     -1.659      0.097       -93.024     7.748\n",
      "=======================================================================================\n"
     ]
    }
   ],
   "source": [
    "target = y['species_virginica']\n",
    "model = st.MNLogit(target,X)\n",
    "fit = model.fit()\n",
    "print fit.summary()"
   ]
  },
  {
   "cell_type": "markdown",
   "metadata": {},
   "source": [
    "## Create a writeup on the interpretation of findings including an executive summary with conclusions and next steps\n",
    "\n",
    "Really?? We were told in class we didn't have to understand this yet nor were we in any way taught this material in a way to understand this but I am supposed to be able to answer this question??"
   ]
  },
  {
   "cell_type": "code",
   "execution_count": null,
   "metadata": {
    "collapsed": true
   },
   "outputs": [],
   "source": []
  }
 ],
 "metadata": {
  "kernelspec": {
   "display_name": "Python 2",
   "language": "python",
   "name": "python2"
  },
  "language_info": {
   "codemirror_mode": {
    "name": "ipython",
    "version": 2
   },
   "file_extension": ".py",
   "mimetype": "text/x-python",
   "name": "python",
   "nbconvert_exporter": "python",
   "pygments_lexer": "ipython2",
   "version": "2.7.11"
  }
 },
 "nbformat": 4,
 "nbformat_minor": 0
}
