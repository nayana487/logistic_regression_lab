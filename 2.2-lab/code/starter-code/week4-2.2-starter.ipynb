{
 "cells": [
  {
   "cell_type": "markdown",
   "metadata": {},
   "source": [
    "Inform Python we will use the StatsModels Library"
   ]
  },
  {
   "cell_type": "code",
   "execution_count": 56,
   "metadata": {
    "collapsed": true
   },
   "outputs": [],
   "source": [
    "import statsmodels.api as st\n",
    "import pandas as pd"
   ]
  },
  {
   "cell_type": "markdown",
   "metadata": {},
   "source": [
    "Use IRIS Dataset"
   ]
  },
  {
   "cell_type": "code",
   "execution_count": 60,
   "metadata": {
    "collapsed": false
   },
   "outputs": [],
   "source": [
    "# import the dataset, declare target and features\n",
    "iris = st.datasets.get_rdataset('iris','datasets')\n",
    "y = iris.data.Species \n",
    "X = iris.data.ix[:, 0:4]\n",
    "y = pd.get_dummies(y)['virginica']"
   ]
  },
  {
   "cell_type": "markdown",
   "metadata": {},
   "source": [
    "Setup the Logistic Regression "
   ]
  },
  {
   "cell_type": "code",
   "execution_count": 61,
   "metadata": {
    "collapsed": false
   },
   "outputs": [],
   "source": [
    "# add column of ones for our y-intercept (http://blog.yhat.com/posts/logistic-regression-and-python.html)\n",
    "X = st.add_constant(X, prepend = False)\n",
    "X\n",
    "#declare our model\n",
    "model = st.MNLogit(y, X)"
   ]
  },
  {
   "cell_type": "markdown",
   "metadata": {},
   "source": [
    "Perform the Regression using the Fit Method"
   ]
  },
  {
   "cell_type": "code",
   "execution_count": 62,
   "metadata": {
    "collapsed": false
   },
   "outputs": [
    {
     "name": "stdout",
     "output_type": "stream",
     "text": [
      "Optimization terminated successfully.\n",
      "         Current function value: 0.039662\n",
      "         Iterations 14\n"
     ]
    }
   ],
   "source": [
    "model_fit = model.fit()"
   ]
  },
  {
   "cell_type": "markdown",
   "metadata": {},
   "source": [
    "Print a summary of the results"
   ]
  },
  {
   "cell_type": "code",
   "execution_count": 63,
   "metadata": {
    "collapsed": false
   },
   "outputs": [
    {
     "name": "stdout",
     "output_type": "stream",
     "text": [
      "                          MNLogit Regression Results                          \n",
      "==============================================================================\n",
      "Dep. Variable:              virginica   No. Observations:                  150\n",
      "Model:                        MNLogit   Df Residuals:                      145\n",
      "Method:                           MLE   Df Model:                            4\n",
      "Date:                Tue, 03 May 2016   Pseudo R-squ.:                  0.9377\n",
      "Time:                        15:18:40   Log-Likelihood:                -5.9493\n",
      "converged:                       True   LL-Null:                       -95.477\n",
      "                                        LLR p-value:                 1.189e-37\n",
      "================================================================================\n",
      " virginica=1       coef    std err          z      P>|z|      [95.0% Conf. Int.]\n",
      "--------------------------------------------------------------------------------\n",
      "Sepal.Length    -2.4652      2.394     -1.030      0.303        -7.158     2.228\n",
      "Sepal.Width     -6.6809      4.480     -1.491      0.136       -15.461     2.099\n",
      "Petal.Length     9.4294      4.737      1.990      0.047         0.145    18.714\n",
      "Petal.Width     18.2861      9.743      1.877      0.061        -0.809    37.381\n",
      "const          -42.6378     25.708     -1.659      0.097       -93.024     7.748\n",
      "================================================================================\n"
     ]
    }
   ],
   "source": [
    "print model_fit.summary()"
   ]
  },
  {
   "cell_type": "code",
   "execution_count": null,
   "metadata": {
    "collapsed": true
   },
   "outputs": [],
   "source": []
  }
 ],
 "metadata": {
  "kernelspec": {
   "display_name": "Python 2",
   "language": "python",
   "name": "python2"
  },
  "language_info": {
   "codemirror_mode": {
    "name": "ipython",
    "version": 2
   },
   "file_extension": ".py",
   "mimetype": "text/x-python",
   "name": "python",
   "nbconvert_exporter": "python",
   "pygments_lexer": "ipython2",
   "version": "2.7.11"
  }
 },
 "nbformat": 4,
 "nbformat_minor": 0
}
