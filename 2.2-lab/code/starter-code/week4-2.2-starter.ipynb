{
 "cells": [
  {
   "cell_type": "markdown",
   "metadata": {},
   "source": [
    "Inform Python we will use the StatsModels Library"
   ]
  },
  {
   "cell_type": "code",
   "execution_count": 1,
   "metadata": {
    "collapsed": true
   },
   "outputs": [],
   "source": [
    "## Exercise\n",
    "\n",
    "#Perform a logistic regression (logit) on the IRIS dataset using all four features. Refer to the [statsmodel documentation](http://statsmodels.sourceforge.net/stable/index.html) for further information on the methods for specifying and fitting data.\n",
    "\n",
    "#### Requirements\n",
    "\n",
    "# - Practice Statsmodels to run Logistic on the project dataset\n",
    "# - Explain how to evaluate a logistic regression model\n",
    "# - Explain how to tune the model\n",
    "# - Introduce new data to the model and see if it makes a difference\n"
   ]
  },
  {
   "cell_type": "code",
   "execution_count": 57,
   "metadata": {
    "collapsed": true
   },
   "outputs": [],
   "source": [
    "import statsmodels.api as st\n",
    "import pandas as pd"
   ]
  },
  {
   "cell_type": "markdown",
   "metadata": {},
   "source": [
    "Use IRIS Dataset"
   ]
  },
  {
   "cell_type": "code",
   "execution_count": 58,
   "metadata": {
    "collapsed": true
   },
   "outputs": [],
   "source": [
    "# import the dataset, declare target and features\n",
    "iris = st.datasets.get_rdataset('iris','datasets')\n",
    "y = iris.data.Species \n",
    "X = iris.data.ix[:, 0:4]"
   ]
  },
  {
   "cell_type": "code",
   "execution_count": 74,
   "metadata": {
    "collapsed": false
   },
   "outputs": [],
   "source": [
    "columns = list(iris.data.columns)"
   ]
  },
  {
   "cell_type": "code",
   "execution_count": 77,
   "metadata": {
    "collapsed": false
   },
   "outputs": [
    {
     "data": {
      "text/html": [
       "<div>\n",
       "<table border=\"1\" class=\"dataframe\">\n",
       "  <thead>\n",
       "    <tr style=\"text-align: right;\">\n",
       "      <th></th>\n",
       "      <th>Sepal.Length</th>\n",
       "      <th>Sepal.Width</th>\n",
       "      <th>Petal.Length</th>\n",
       "      <th>Petal.Width</th>\n",
       "      <th>Species</th>\n",
       "    </tr>\n",
       "  </thead>\n",
       "  <tbody>\n",
       "    <tr>\n",
       "      <th>0</th>\n",
       "      <td>5.1</td>\n",
       "      <td>3.5</td>\n",
       "      <td>1.4</td>\n",
       "      <td>0.2</td>\n",
       "      <td>setosa</td>\n",
       "    </tr>\n",
       "    <tr>\n",
       "      <th>1</th>\n",
       "      <td>4.9</td>\n",
       "      <td>3.0</td>\n",
       "      <td>1.4</td>\n",
       "      <td>0.2</td>\n",
       "      <td>setosa</td>\n",
       "    </tr>\n",
       "  </tbody>\n",
       "</table>\n",
       "</div>"
      ],
      "text/plain": [
       "   Sepal.Length  Sepal.Width  Petal.Length  Petal.Width Species\n",
       "0           5.1          3.5           1.4          0.2  setosa\n",
       "1           4.9          3.0           1.4          0.2  setosa"
      ]
     },
     "execution_count": 77,
     "metadata": {},
     "output_type": "execute_result"
    }
   ],
   "source": [
    "iris.data[columns].head(2)"
   ]
  },
  {
   "cell_type": "code",
   "execution_count": 59,
   "metadata": {
    "collapsed": true
   },
   "outputs": [],
   "source": [
    "# add column of ones for our y-intercept (http://blog.yhat.com/posts/logistic-regression-and-python.html)\n",
    "\n",
    "X['intercept'] = 1.0"
   ]
  },
  {
   "cell_type": "code",
   "execution_count": 63,
   "metadata": {
    "collapsed": false
   },
   "outputs": [],
   "source": [
    "y = pd.get_dummies(y, prefix='Species')"
   ]
  },
  {
   "cell_type": "code",
   "execution_count": 69,
   "metadata": {
    "collapsed": false
   },
   "outputs": [
    {
     "name": "stdout",
     "output_type": "stream",
     "text": [
      "Warning: Maximum number of iterations has been exceeded.\n",
      "         Current function value: 0.000000\n",
      "         Iterations: 35\n",
      "                          MNLogit Regression Results                          \n",
      "==============================================================================\n",
      "Dep. Variable:         Species_setosa   No. Observations:                  150\n",
      "Model:                        MNLogit   Df Residuals:                      145\n",
      "Method:                           MLE   Df Model:                            4\n",
      "Date:                Tue, 03 May 2016   Pseudo R-squ.:                   1.000\n",
      "Time:                        14:47:39   Log-Likelihood:            -6.9724e-09\n",
      "converged:                      False   LL-Null:                       -95.477\n",
      "                                        LLR p-value:                 3.305e-40\n",
      "====================================================================================\n",
      "Species_setosa=1       coef    std err          z      P>|z|      [95.0% Conf. Int.]\n",
      "------------------------------------------------------------------------------------\n",
      "Sepal.Length         9.6294   1.21e+05   7.98e-05      1.000     -2.37e+05  2.37e+05\n",
      "Sepal.Width          8.4423   5.13e+04      0.000      1.000     -1.01e+05  1.01e+05\n",
      "Petal.Length       -20.5324    8.9e+04     -0.000      1.000     -1.75e+05  1.75e+05\n",
      "Petal.Width        -14.9496   1.39e+05     -0.000      1.000     -2.72e+05  2.72e+05\n",
      "intercept          -11.8568   4.64e+05  -2.55e-05      1.000      -9.1e+05   9.1e+05\n",
      "====================================================================================\n",
      "Optimization terminated successfully.\n",
      "         Current function value: 0.483566\n",
      "         Iterations 6\n",
      "                          MNLogit Regression Results                          \n",
      "==============================================================================\n",
      "Dep. Variable:     Species_versicolor   No. Observations:                  150\n",
      "Model:                        MNLogit   Df Residuals:                      145\n",
      "Method:                           MLE   Df Model:                            4\n",
      "Date:                Tue, 03 May 2016   Pseudo R-squ.:                  0.2403\n",
      "Time:                        14:47:39   Log-Likelihood:                -72.535\n",
      "converged:                       True   LL-Null:                       -95.477\n",
      "                                        LLR p-value:                 2.603e-09\n",
      "========================================================================================\n",
      "Species_versicolor=1       coef    std err          z      P>|z|      [95.0% Conf. Int.]\n",
      "----------------------------------------------------------------------------------------\n",
      "Sepal.Length            -0.2454      0.650     -0.378      0.706        -1.518     1.028\n",
      "Sepal.Width             -2.7966      0.784     -3.569      0.000        -4.332    -1.261\n",
      "Petal.Length             1.3136      0.684      1.921      0.055        -0.027     2.654\n",
      "Petal.Width             -2.7783      1.173     -2.368      0.018        -5.078    -0.479\n",
      "intercept                7.3785      2.499      2.952      0.003         2.480    12.277\n",
      "========================================================================================\n",
      "Optimization terminated successfully.\n",
      "         Current function value: 0.039662\n",
      "         Iterations 14\n",
      "                          MNLogit Regression Results                          \n",
      "==============================================================================\n",
      "Dep. Variable:      Species_virginica   No. Observations:                  150\n",
      "Model:                        MNLogit   Df Residuals:                      145\n",
      "Method:                           MLE   Df Model:                            4\n",
      "Date:                Tue, 03 May 2016   Pseudo R-squ.:                  0.9377\n",
      "Time:                        14:47:39   Log-Likelihood:                -5.9493\n",
      "converged:                       True   LL-Null:                       -95.477\n",
      "                                        LLR p-value:                 1.189e-37\n",
      "=======================================================================================\n",
      "Species_virginica=1       coef    std err          z      P>|z|      [95.0% Conf. Int.]\n",
      "---------------------------------------------------------------------------------------\n",
      "Sepal.Length           -2.4652      2.394     -1.030      0.303        -7.158     2.228\n",
      "Sepal.Width            -6.6809      4.480     -1.491      0.136       -15.461     2.099\n",
      "Petal.Length            9.4294      4.737      1.990      0.047         0.145    18.714\n",
      "Petal.Width            18.2861      9.743      1.877      0.061        -0.809    37.381\n",
      "intercept             -42.6378     25.708     -1.659      0.097       -93.024     7.748\n",
      "=======================================================================================\n"
     ]
    },
    {
     "name": "stderr",
     "output_type": "stream",
     "text": [
      "/Users/michaelshea/anaconda/lib/python2.7/site-packages/statsmodels/base/model.py:466: ConvergenceWarning: Maximum Likelihood optimization failed to converge. Check mle_retvals\n",
      "  \"Check mle_retvals\", ConvergenceWarning)\n"
     ]
    }
   ],
   "source": [
    "for species in y:\n",
    "    target = y[species]\n",
    "    logit = st.MNLogit(target, X)\n",
    "    model = logit.fit()\n",
    "    print model.summary()"
   ]
  }
 ],
 "metadata": {
  "kernelspec": {
   "display_name": "Python 2",
   "language": "python",
   "name": "python2"
  },
  "language_info": {
   "codemirror_mode": {
    "name": "ipython",
    "version": 2
   },
   "file_extension": ".py",
   "mimetype": "text/x-python",
   "name": "python",
   "nbconvert_exporter": "python",
   "pygments_lexer": "ipython2",
   "version": "2.7.11"
  }
 },
 "nbformat": 4,
 "nbformat_minor": 0
}
