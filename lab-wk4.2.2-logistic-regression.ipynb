{
 "cells": [
  {
   "cell_type": "markdown",
   "metadata": {},
   "source": [
    "Inform Python we will use the StatsModels Library"
   ]
  },
  {
   "cell_type": "code",
   "execution_count": 7,
   "metadata": {
    "collapsed": true
   },
   "outputs": [],
   "source": [
    "import numpy as np\n",
    "import pandas as pd\n",
    "import statsmodels.api as sm"
   ]
  },
  {
   "cell_type": "markdown",
   "metadata": {},
   "source": [
    "Use IRIS Dataset"
   ]
  },
  {
   "cell_type": "code",
   "execution_count": 8,
   "metadata": {
    "collapsed": true
   },
   "outputs": [],
   "source": [
    "# import the dataset, declare target and features\n",
    "iris = st.datasets.get_rdataset('iris','datasets')\n",
    "y = iris.data.Species \n",
    "X = iris.data.ix[:, 0:4]"
   ]
  },
  {
   "cell_type": "markdown",
   "metadata": {},
   "source": [
    "Setup the Logistic Regression "
   ]
  },
  {
   "cell_type": "code",
   "execution_count": 9,
   "metadata": {
    "collapsed": false
   },
   "outputs": [],
   "source": [
    "# add column of ones for our y-intercept (http://blog.yhat.com/posts/logistic-regression-and-python.html)\n",
    "\n",
    "#declare our model\n",
    "mdl = sm.MNLogit(y, X)\n"
   ]
  },
  {
   "cell_type": "markdown",
   "metadata": {},
   "source": [
    "Perform the Regression using the Fit Method"
   ]
  },
  {
   "cell_type": "code",
   "execution_count": 10,
   "metadata": {
    "collapsed": false
   },
   "outputs": [
    {
     "name": "stdout",
     "output_type": "stream",
     "text": [
      "Warning: Maximum number of iterations has been exceeded.\n",
      "         Current function value: 0.072266\n",
      "         Iterations: 35\n"
     ]
    },
    {
     "name": "stderr",
     "output_type": "stream",
     "text": [
      "/Users/kainguyen/anaconda/lib/python2.7/site-packages/statsmodels/base/model.py:466: ConvergenceWarning: Maximum Likelihood optimization failed to converge. Check mle_retvals\n",
      "  \"Check mle_retvals\", ConvergenceWarning)\n"
     ]
    }
   ],
   "source": [
    "mdl_fit = mdl.fit()"
   ]
  },
  {
   "cell_type": "markdown",
   "metadata": {},
   "source": [
    "Print a summary of the results"
   ]
  },
  {
   "cell_type": "code",
   "execution_count": 11,
   "metadata": {
    "collapsed": false
   },
   "outputs": [
    {
     "name": "stdout",
     "output_type": "stream",
     "text": [
      "                          MNLogit Regression Results                          \n",
      "==============================================================================\n",
      "Dep. Variable:                Species   No. Observations:                  150\n",
      "Model:                        MNLogit   Df Residuals:                      142\n",
      "Method:                           MLE   Df Model:                            6\n",
      "Date:                Tue, 03 May 2016   Pseudo R-squ.:                  0.9342\n",
      "Time:                        12:24:31   Log-Likelihood:                -10.840\n",
      "converged:                      False   LL-Null:                       -164.79\n",
      "                                        LLR p-value:                 1.655e-63\n",
      "=====================================================================================\n",
      "Species=versicolor       coef    std err          z      P>|z|      [95.0% Conf. Int.]\n",
      "--------------------------------------------------------------------------------------\n",
      "Sepal.Length          -5.0056    3.1e+04     -0.000      1.000     -6.07e+04  6.07e+04\n",
      "Sepal.Width          -10.4810   4.95e+04     -0.000      1.000      -9.7e+04   9.7e+04\n",
      "Petal.Length          17.2524   9.32e+04      0.000      1.000     -1.83e+05  1.83e+05\n",
      "Petal.Width           18.4357   1.91e+05   9.65e-05      1.000     -3.74e+05  3.74e+05\n",
      "--------------------------------------------------------------------------------------\n",
      "Species=virginica       coef    std err          z      P>|z|      [95.0% Conf. Int.]\n",
      "-------------------------------------------------------------------------------------\n",
      "Sepal.Length        -11.3334    3.1e+04     -0.000      1.000     -6.07e+04  6.07e+04\n",
      "Sepal.Width         -17.0991   4.95e+04     -0.000      1.000      -9.7e+04   9.7e+04\n",
      "Petal.Length         25.6862   9.32e+04      0.000      1.000     -1.83e+05  1.83e+05\n",
      "Petal.Width          28.7182   1.91e+05      0.000      1.000     -3.74e+05  3.74e+05\n",
      "=====================================================================================\n"
     ]
    }
   ],
   "source": [
    "print mdl_fit.summary()"
   ]
  }
 ],
 "metadata": {
  "kernelspec": {
   "display_name": "Python 2",
   "language": "python",
   "name": "python2"
  },
  "language_info": {
   "codemirror_mode": {
    "name": "ipython",
    "version": 2
   },
   "file_extension": ".py",
   "mimetype": "text/x-python",
   "name": "python",
   "nbconvert_exporter": "python",
   "pygments_lexer": "ipython2",
   "version": "2.7.11"
  }
 },
 "nbformat": 4,
 "nbformat_minor": 0
}
